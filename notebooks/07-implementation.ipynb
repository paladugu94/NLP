{
 "cells": [
  {
   "cell_type": "markdown",
   "metadata": {},
   "source": [
    "INS\n",
    "### Import libraries"
   ]
  },
  {
   "cell_type": "code",
   "execution_count": 1,
   "metadata": {},
   "outputs": [],
   "source": [
    "import pandas as pd\n",
    "import numpy as np\n",
    "from playsound import playsound\n",
    "import time\n",
    "import gc as gc\n",
    "start_time = time.time()"
   ]
  },
  {
   "cell_type": "code",
   "execution_count": 2,
   "metadata": {},
   "outputs": [],
   "source": [
    "pd.set_option(\"max_colwidth\", None)\n"
   ]
  },
  {
   "cell_type": "code",
   "execution_count": 3,
   "metadata": {},
   "outputs": [],
   "source": [
    "path_df = \"..\\\\data\\\\original\\\\\"\n",
    "path_processed = \"..\\\\..\\\\..\\\\data_nps\\\\processed\\\\\"\n",
    "dashboard = \"..\\\\data\\\\dashboard\\\\\"\n",
    "muestreo = \"..\\\\..\\\\..\\\\data_nps\\\\muestreo\\\\\"\n",
    "sonido = \"..\\\\figures\\\\\""
   ]
  },
  {
   "cell_type": "code",
   "execution_count": 4,
   "metadata": {
    "pycharm": {
     "name": "#%%\n"
    }
   },
   "outputs": [
    {
     "name": "stdout",
     "output_type": "stream",
     "text": [
      "nps_enero2019_febrero_2021.csv\n",
      "nps_enero2019_febrero_2021.rar\n"
     ]
    }
   ],
   "source": [
    "!ls ../data/original/"
   ]
  },
  {
   "cell_type": "code",
   "execution_count": 5,
   "metadata": {},
   "outputs": [],
   "source": [
    "df = pd.read_csv(\"../data/original/nps_enero2019_febrero_2021.csv\", sep = \";\", encoding=\"cp1252\",low_memory=False)"
   ]
  },
  {
   "cell_type": "code",
   "execution_count": 6,
   "metadata": {
    "jupyter": {
     "outputs_hidden": false
    },
    "pycharm": {
     "name": "#%%\n"
    }
   },
   "outputs": [
    {
     "data": {
      "text/plain": [
       "97491"
      ]
     },
     "execution_count": 6,
     "metadata": {},
     "output_type": "execute_result"
    }
   ],
   "source": [
    "len(df.CIF_ID.unique())"
   ]
  },
  {
   "cell_type": "code",
   "execution_count": 7,
   "metadata": {
    "jupyter": {
     "outputs_hidden": false
    },
    "pycharm": {
     "name": "#%%\n"
    }
   },
   "outputs": [],
   "source": [
    "#df[[\"CIF_ID\", \"DOCUMENT_TYPE\",\"DOCUMENT_NUMBER\"]].head()\n",
    "#df[[\"CIF_ID\", \"DOCUMENT_TYPE\",\"DOCUMENT_NUMBER\"]].to_csv(muestreo+ \"CIF_ID_polizas-enero19-diciembre2020.csv\", index = True)"
   ]
  },
  {
   "cell_type": "markdown",
   "metadata": {},
   "source": [
    "### TNPS_SCORE a Categorias"
   ]
  },
  {
   "cell_type": "code",
   "execution_count": 8,
   "metadata": {},
   "outputs": [],
   "source": [
    "import re"
   ]
  },
  {
   "cell_type": "markdown",
   "metadata": {},
   "source": [
    "## Columna Categoria\n",
    "\n",
    "Categoria = Detractor | Neutro | Promotor\n",
    "\n",
    "Es una columna que sale de una condición simple con respecto a la columna original del dataset TNPS_SCORE. \n",
    "¿Vale la pena hacerla automatizadamente o la levantamos con Tableau?\n",
    "Prefiero automatimacamente pero se puede hacer con Tableau"
   ]
  },
  {
   "cell_type": "code",
   "execution_count": 9,
   "metadata": {},
   "outputs": [],
   "source": [
    "nps_dict = {\n",
    "    0:\"Detractor\",\n",
    "    1:\"Detractor\",\n",
    "    2:\"Detractor\",\n",
    "    3:\"Detractor\",\n",
    "    4:\"Detractor\",\n",
    "    5:\"Detractor\",\n",
    "    6:\"Detractor\",\n",
    "    7:\"Neutro\",\n",
    "    8:\"Neutro\",\n",
    "    9:\"Promotor\",\n",
    "    10:\"Promotor\"\n",
    "}"
   ]
  },
  {
   "cell_type": "code",
   "execution_count": 10,
   "metadata": {},
   "outputs": [],
   "source": [
    "df = df.fillna(0)"
   ]
  },
  {
   "cell_type": "code",
   "execution_count": 11,
   "metadata": {},
   "outputs": [],
   "source": [
    "df[\"NPS_SEGMENT\"] = df['TNPS_SCORE'].apply(lambda x: nps_dict[x])"
   ]
  },
  {
   "cell_type": "markdown",
   "metadata": {},
   "source": [
    "### Date processing"
   ]
  },
  {
   "cell_type": "code",
   "execution_count": 12,
   "metadata": {},
   "outputs": [],
   "source": [
    "f.CREATION_DATE = df[\"CREATION_DATE\"].apply(lambda x: re.sub(r\" .*\",\"\", x))\n",
    "df.RESPONSE_DATE = df[\"RESPONSE_DATE\"].apply(lambda x: re.sub(r\" .*\",\"\", x))"
   ]
  },
  {
   "cell_type": "code",
   "execution_count": 13,
   "metadata": {},
   "outputs": [],
   "source": [
    "df.CREATION_DATE = pd.to_datetime(df.CREATION_DATE, format = \"%d/%m/%Y\")"
   ]
  },
  {
   "cell_type": "code",
   "execution_count": 14,
   "metadata": {},
   "outputs": [],
   "source": [
    "df.RESPONSE_DATE = pd.to_datetime(df.RESPONSE_DATE, format = \"%d/%m/%Y\")\n"
   ]
  },
  {
   "cell_type": "code",
   "execution_count": 15,
   "metadata": {},
   "outputs": [],
   "source": [
    "#creo variable year_monty, i, 2019-01\n",
    "df[\"year_month\"] = df.RESPONSE_DATE.dt.to_period('M')"
   ]
  },
  {
   "cell_type": "code",
   "execution_count": 16,
   "metadata": {},
   "outputs": [
    {
     "name": "stderr",
     "output_type": "stream",
     "text": [
      "<ipython-input-16-beb75a92c2c2>:1: UserWarning: Pandas doesn't allow columns to be created via a new attribute name - see https://pandas.pydata.org/pandas-docs/stable/indexing.html#attribute-access\n",
      "  df.RESPONSE_DATE2 = df.RESPONSE_DATE\n"
     ]
    }
   ],
   "source": [
    "df.RESPONSE_DATE2 = df.RESPONSE_DATE"
   ]
  },
  {
   "cell_type": "code",
   "execution_count": 17,
   "metadata": {},
   "outputs": [],
   "source": [
    "import re\n",
    "import string"
   ]
  },
  {
   "cell_type": "code",
   "execution_count": 18,
   "metadata": {},
   "outputs": [],
   "source": [
    "def basic_text_cleanup(text):\n",
    "    \"\"\"\n",
    "    Convert to lowercase, remove punctuation, remove digits\n",
    "    \"\"\"\n",
    "    #print(text)\n",
    "    text = text.lower() #lower case\n",
    "    text = re.sub(\"[^\\w|\\s]\", \" \",text) #replace non word and non space characters by a space\n",
    "    text = re.sub(\"\\s+\", \" \",text) #remove extra spaces\n",
    "    text = re.sub(\"á\", \"a\",text) #saco acentos\n",
    "    text = re.sub(\"é\", \"e\",text) #saco acentos\n",
    "    text = re.sub(\"í\", \"i\",text) #saco acentos\n",
    "    text = re.sub(\"ó\", \"o\",text) #saco acentos\n",
    "    text = re.sub(\"ú\", \"u\",text) #saco acentos\n",
    "    return text"
   ]
  },
  {
   "cell_type": "code",
   "execution_count": 19,
   "metadata": {},
   "outputs": [],
   "source": [
    "#reemplazo los valores nulos en comentarios por \"\", para que no me de error, la cunión basic_text_cleanup\n",
    "df.loc[df.TNPS_COMMENT.isna(),\"TNPS_COMMENT\"] = \"\""
   ]
  },
  {
   "cell_type": "code",
   "execution_count": 20,
   "metadata": {},
   "outputs": [],
   "source": [
    "df[\"TNPS_COMMENT\"] = df[\"TNPS_COMMENT\"].astype(str)"
   ]
  },
  {
   "cell_type": "code",
   "execution_count": 21,
   "metadata": {},
   "outputs": [],
   "source": [
    "df[\"comments_clean\"] = df[\"TNPS_COMMENT\"].apply(lambda x:basic_text_cleanup(x))"
   ]
  },
  {
   "cell_type": "markdown",
   "metadata": {},
   "source": [
    "# Taggeo\n",
    "\n",
    "## Diccionario\n",
    "\n",
    "### Mapa Categorías y Atributos"
   ]
  },
  {
   "cell_type": "code",
   "execution_count": 22,
   "metadata": {},
   "outputs": [],
   "source": [
    "txt = \"me quiero dar de baja\""
   ]
  },
  {
   "cell_type": "code",
   "execution_count": 36,
   "metadata": {},
   "outputs": [
    {
     "data": {
      "text/html": [
       "<div>\n",
       "<style scoped>\n",
       "    .dataframe tbody tr th:only-of-type {\n",
       "        vertical-align: middle;\n",
       "    }\n",
       "\n",
       "    .dataframe tbody tr th {\n",
       "        vertical-align: top;\n",
       "    }\n",
       "\n",
       "    .dataframe thead th {\n",
       "        text-align: right;\n",
       "    }\n",
       "</style>\n",
       "<table border=\"1\" class=\"dataframe\">\n",
       "  <thead>\n",
       "    <tr style=\"text-align: right;\">\n",
       "      <th></th>\n",
       "      <th>comment</th>\n",
       "    </tr>\n",
       "  </thead>\n",
       "  <tbody>\n",
       "    <tr>\n",
       "      <th>0</th>\n",
       "      <td>X la resolución que tomaron con el siniestro que Tube en el mes de abril . Me chocaron de atrás en la Panamericana . Y la culpa fue mi</td>\n",
       "    </tr>\n",
       "    <tr>\n",
       "      <th>1</th>\n",
       "      <td>Testeo 2</td>\n",
       "    </tr>\n",
       "    <tr>\n",
       "      <th>2</th>\n",
       "      <td>rueda de auxilio otro choque</td>\n",
       "    </tr>\n",
       "    <tr>\n",
       "      <th>3</th>\n",
       "      <td>auxilio</td>\n",
       "    </tr>\n",
       "    <tr>\n",
       "      <th>4</th>\n",
       "      <td>No me va avisar</td>\n",
       "    </tr>\n",
       "    <tr>\n",
       "      <th>5</th>\n",
       "      <td>me quiero dar de baja</td>\n",
       "    </tr>\n",
       "  </tbody>\n",
       "</table>\n",
       "</div>"
      ],
      "text/plain": [
       "                                                                                                                                  comment\n",
       "0  X la resolución que tomaron con el siniestro que Tube en el mes de abril . Me chocaron de atrás en la Panamericana . Y la culpa fue mi\n",
       "1                                                                                                                                Testeo 2\n",
       "2                                                                                                            rueda de auxilio otro choque\n",
       "3                                                                                                                                 auxilio\n",
       "4                                                                                                                         No me va avisar\n",
       "5                                                                                                                   me quiero dar de baja"
      ]
     },
     "execution_count": 36,
     "metadata": {},
     "output_type": "execute_result"
    }
   ],
   "source": [
    "#testeos\n",
    "test = pd.DataFrame({\"comment\":\n",
    "                         [\"X la resolución que tomaron con el siniestro que Tube en el mes de abril . Me chocaron de atrás en la Panamericana . Y la culpa fue mi\",\n",
    "                          \"Testeo 2\",\"rueda de auxilio otro choque\",\n",
    "                          \"auxilio\",\n",
    "                          \"No me va avisar\", txt]})\n",
    "test"
   ]
  },
  {
   "cell_type": "code",
   "execution_count": 37,
   "metadata": {},
   "outputs": [
    {
     "data": {
      "text/plain": [
       "0    False\n",
       "1    False\n",
       "2    False\n",
       "3    False\n",
       "4    False\n",
       "5    False\n",
       "Name: comment, dtype: bool"
      ]
     },
     "execution_count": 37,
     "metadata": {},
     "output_type": "execute_result"
    }
   ],
   "source": [
    "\n",
    "test.comment.str.contains(r\"Pagaba x debito automatico y hace 3 meses no me cobraban y nadie me comento q estaba sin cobertura\", #test Ok\n",
    "\n",
    "                 regex =True)"
   ]
  },
  {
   "cell_type": "code",
   "execution_count": 33,
   "metadata": {},
   "outputs": [],
   "source": [
    "text = \"la aca llego en el tiempo indicado acababa \""
   ]
  },
  {
   "cell_type": "code",
   "execution_count": 26,
   "metadata": {},
   "outputs": [
    {
     "data": {
      "text/plain": [
       "['aca ']"
      ]
     },
     "execution_count": 26,
     "metadata": {},
     "output_type": "execute_result"
    }
   ],
   "source": [
    "re.findall(r\"aca+\\s\",text)"
   ]
  },
  {
   "cell_type": "markdown",
   "metadata": {},
   "source": [
    "## Aclaracion\n",
    "\n",
    "Los atributos y motivos no deberían ser positivos o negativos. Eso lo debería dar necesariamente el puntaje. Por lo tanto conformidad de un detractor significaría disconformidad."
   ]
  },
  {
   "cell_type": "code",
   "execution_count": 114,
   "metadata": {},
   "outputs": [],
   "source": [
    "keyDict ={\n",
    "    \"8mot_Atencion\":r\"atenc.*|atend.*|atiend.*|\\b(?:respon.*\\W+(?:\\w+\\W+){0,5}?nunca|nunca\\W+(?:\\w+\\W+){0,5}?respon.*)\\b|\\b(?:respues.*\\W+(?:\\w+\\W+){0,5}?nunca|nunca\\W+(?:\\w+\\W+){0,5}?respues.*)\\b|falta de interes|nadie me llamo|respue.*|emplea.*|amable|buen trato|mal trato|personal+\\s\", #test Ok\n",
    "    \"3mot_Document&gestion\":r\"^gesti.?\\w|\\Wgesti.?\\w|\\Wgesti.$|foto.*verific.*|verific.*(auto|coche|vehic)|verific.*|verifiq|documentacion|cupon|tarjeta plastica|factura|credencial|talon|resumen|domicilio|\\b(?:comprobante\\W+(?:\\w+\\W+){0,3}?seguro\",\n",
    "    \"4mot_FacturacionPagos\":r\"cbu|factura|debit.*|visa+\\s|bancaria|banco|\\b(?:resumen\\W+(?:\\w+\\W+){0,5}?tarjeta|tarjeta\\W+(?:\\w+\\W+){0,5}?resumen)\\b|bbva|santander|galicia|frances|pago|pagos|debiendo|debo|deuda|debito|\\Wpago\\W|^cuotas{0,1}|\\Wcuotas{0,1}|cobraron|^cobro|cobra.*|comprobante\", #test Ok\n",
    "    \"2mot_Siniestro\":r\"accidente|siniestro|choque|colision|destruccion|pericia\\Waccid.?\\w|\\Waccid.$|\\Wsiniest.?\\w|\\Wsiniest.$|choque|\\Wrobo.?\\w|\\Wrobo.$|\\Wchoc?\\w|\\Wchoc.$|\\Wrob.?\\w|\\Wrob.$|\\Whurt.?\\w|\\Whurt.$|denuncia|abogado|abogados|granizo|gomas\",\n",
    "    #test Ok\n",
    "    \"1mot_Grua\":r\"grua|auxicaja|auxi-caja|\\Wauxilio\\W|\\Wauxilio$|aux.*mecan|remolque|remolc.*|acarreo|aca+\\s|europ+\\s|excedencia de km|excedio km|kilometro\",\n",
    "    #\"mot_recupero\":r\"lo jack|lojack|rastreo|satelital\",\n",
    "    \"7mot_Cobertura&poliza\": r\"cubr.*|cobert.*|recono.|\\Wtaller.\\w*|\\Wtaller.*$|parabrisas{0,1}|cubiertas{0,1}|ruedas{0,1}|sin seguro|(dejaron|quede|no tuve)\\W+(?:\\w+\\W+){0,5}?segu.*\\b|siniestro|choque|rotura|destruccion|accidente|vidrio|rueda+\\s|motor|poliza|cristales\",\n",
    "    #test Ok\n",
    "    \"5mot_Precio\": r\"precio|carocaro/w|carisimo|costo.*|\\b(?:aumento.*\\W+(?:\\w+\\W+){0,5}?cuota|cuota\\W+(?:\\w+\\W+){0,5}?aumento.*)\\b|bonific.*|rebaja|descuentos|\\b(?:alta.*\\W+(?:\\w+\\W+){0,5}?cuota|cuota\\W+(?:\\w+\\W+){0,5}?alta.*)\\b|precio|^precios{0,2}|\\Wprecios{0,2}|^car(o|a|is)|\\Wcar(o|a|is)|\\Wcar(o|a|is)|costoso|\\Wcost.?\\w|\\Wcost.$|^aument.?\\w|\\Waument.?\\w|\\Waument.$|cobraba|subieron la franquicia|barato|promociones\",\n",
    "    \"6mot_Accesibilidad\": r\"comunic.*|comuniq.*|contact.*|\\Wcontest.?\\w|\\Wcontest.$|respuesta|respondieron|responde|respondio|\\b(?:respon.*\\W+(?:\\w+\\W+){0,5}?nunca|nunca\\W+(?:\\w+\\W+){0,5}?respon.*)\\b|\\b(?:respues.*\\W+(?:\\w+\\W+){0,5}?nunca|nunca\\W+(?:\\w+\\W+){0,5}?respues.*)\\b|\\b(?:nunca.*\\W+(?:\\w+\\W+){0,5}?llama.*)|no he sido tenido en cuenta|(nunca|no)\\W+(?:\\w+\\W+){0,5}?(llego|respon.*|respu.*|mensaj.*)\\b\",\n",
    "    \"4mot_Servicio\":r\"servicio|me asociarion|vehículo Toyota\",\n",
    "    #\"mot_documentacion\":r\"documentacion|cupon|tarjeta plastica|factura|credencial|talon|resumen\",\n",
    "    \"8atr_Demora\":r\"tard.*|demora|eternidad|esper.*|vengo haciendo hace|\\b(?:hace.*\\W+(?:\\w+\\W+){0,5}?mes.*|mes.*\\W+(?:\\w+\\W+){0,5}?hace)\\b|demora|lenta*?|lento*?|lentos|^lent(a|o)|\\Wlent(a|o)|tardar|tardo|demora|eternidad|^esper.?\\w|\\Wesper.?\\w|\\Wesper.$|\\d.(mes|hor|dia|sem|mes)|(estu.*|tuv.*)\\W+(?:\\w+\\W+){0,5}?(hrs|hs|horas|.*hs)\\b|demoro\",\n",
    "     #test Ok\n",
    "    \"1atr_Reiteracion\":r\"\\d {0,3}vec|varias {0,3}vec\",\n",
    "    \"6atr_Eficacia\": r\"^efic.?\\w|\\Wefic.?\\w|\\Wefic.$|^rapide.?\\w|\\Wrapide.?\\w|\\Wrapide.$|resolucion|solucion|rapido|agilidad|funciona|rapida|resolver|resolucion|siencillo|celeridad|funciona bien|resuel|resolvi|velocidad|agil\",\n",
    "    \"4atr_Conformidad\": r\"conformidad|^mal(a|o)|\\\\Wmal(a|o)|malisi.*|No me tienen en cuenta como cliente|puta|mierda|sorete.*|forros|basura|porqueria|cagada|deastr.*|conforme|comforme|conforme|confiable|confianza|confiabilidad|muy ^buen(a|o){0,1}|\\Wes buen(a|o){0,1}|excelen|perfecto|inconveniente|cumplen\",\n",
    "    \"5atr_Sucursal\": r\"sucursa.*|locales.*\",\n",
    "    \"2atr_Callcenter\":r\"atiendan|call center|call|contestador|escucha|grabaciones|internos|musi.*|ocupados|operador telefon.*|teléfono|\\b(?:no\\W+(?:\\w+\\W+){0,5}?contestan|contestan\\W+(?:\\w+\\W+){0,5}?nadie)\\b|grabacion.*|0800|telefono|telefonico|lineas|telefonistas\",\n",
    "    \"3atr_Digital\":r\"^redes|whatsapp|mail|casilla|internet|whasapp|whatsap|clave|usuario|contrase|gmail|registrarme|ingresar|android|pagina|app|what.*|maquinas|gmail|subir fotos|wassap|aplicacion|visualizar|chat.*|acceder|plataforma|bot|wsapp|washap|wsp|web|on line|whas.*|was.*|WhatsApp\",\n",
    "    \"1atr_Baja\":r\"falta de respeto|dar de baja|cambiarme de empresa|otras empresas|otra.* compa.*|cambiar de compania|zurich|den de baja|\\b(?:me voy\\W+(?:\\w+\\W+){0,5}?empresa|baja\\W+(?:\\w+\\W+){0,3}?definitva)\\b|\\b(?:motivo\\W+(?:\\w+\\W+){0,5}?baja|solicitar\\W+(?:\\w+\\W+){0,3}?baja)\\b|\\b(?:baja\\W+(?:\\w+\\W+){0,5}?total|cambiar\\W+(?:\\w+\\W+){0,5}?empresa)\\b|darle de baja|renovar|darle baja|engañ.*|estafa.*|dare baja|iunigo|evaluando cambiar.*|considerando baja.*|consderando cambiar.*|decepciono|deplorable.*|terrible.*|poca predisposicion|maltrato.*|horrible|doy de baja|di de baja\", #test Ok\n",
    "    #\"atr_respuesta\": r\"respuesta|respondieron|responde|respondio|\\b(?:respon.*\\W+(?:\\w+\\W+){0,5}?nunca|nunca\\W+(?:\\w+\\W+){0,5}?respon.*)\\b|\\b(?:respues.*\\W+(?:\\w+\\W+){0,5}?nunca|nunca\\W+(?:\\w+\\W+){0,5}?respues.*)\\b|\\b(?:nunca.*\\W+(?:\\w+\\W+){0,5}?llama.*)|no he sido tenido en cuenta|(nunca|no)\\W+(?:\\w+\\W+){0,5}?(llego|respon.*|respu.*|mensaj.*)\\b\", #test Ok\n",
    "     #\"atr_capacitación\": r\"capacitacion|conocimientos|falta de conocimiento|no sabia|no saben|ignorancia|ignorante|explicacion\", #test Ok\n",
    "     \"atr_Informacion\": r\"info.*|explicacion|dudas|capacitacion|capacitado|ignorante\" #test Ok\n",
    "}"
   ]
  },
  {
   "cell_type": "code",
   "execution_count": 28,
   "metadata": {},
   "outputs": [],
   "source": [
    "import collections\n",
    "keyDict = collections.OrderedDict(sorted(keyDict.items()))"
   ]
  },
  {
   "cell_type": "code",
   "execution_count": 29,
   "metadata": {},
   "outputs": [],
   "source": [
    "def tagKeyword(df, columnName, keyDict):\n",
    "    \"\"\"\n",
    "    args:\n",
    "        df: a pandas dataframe\n",
    "        columnName: the column name where the keywords will be searched\n",
    "        keyDict: a dictionary of keyword/ regex expresion. The function will use the keys to create new columns, and values\n",
    "                for each key to evaluate regular expressions.\n",
    "    returns: the input dataframe with new boolean columns that indicate of a searched keywords was found\n",
    "    \"\"\"\n",
    "    for k, val in enumerate(keyDict):\n",
    "        #print(val)\n",
    "        #print(keyDict[val])\n",
    "        df[val] = df[columnName].str.contains(keyDict[val], regex=True).view('i1') \n",
    "    return df"
   ]
  },
  {
   "cell_type": "code",
   "execution_count": 30,
   "metadata": {},
   "outputs": [],
   "source": [
    "def tagKeyword(df, columnName, keyDict):\n",
    "    \"\"\"\n",
    "    args:\n",
    "        df: a pandas dataframe\n",
    "        columnName: the column name where the keywords will be searched\n",
    "        keyDict: a dictionary of keyword/ regex expresion. The function will use the keys to create new columns, and values\n",
    "                for each key to evaluate regular expressions.\n",
    "    returns: the input dataframe with new boolean columns that indicate of a searched keywords was found\n",
    "    \"\"\"\n",
    "    for k, val in enumerate(keyDict):\n",
    "        #print(val)\n",
    "        #print(keyDict[val])\n",
    "        df[val] = df[columnName].str.contains(keyDict[val], regex=True).view('i1') \n",
    "    return df"
   ]
  },
  {
   "cell_type": "code",
   "execution_count": 31,
   "metadata": {},
   "outputs": [],
   "source": [
    "tagged = tagKeyword(df, \"comments_clean\", keyDict)"
   ]
  },
  {
   "cell_type": "code",
   "execution_count": 32,
   "metadata": {
    "scrolled": true
   },
   "outputs": [
    {
     "data": {
      "text/html": [
       "<div>\n",
       "<style scoped>\n",
       "    .dataframe tbody tr th:only-of-type {\n",
       "        vertical-align: middle;\n",
       "    }\n",
       "\n",
       "    .dataframe tbody tr th {\n",
       "        vertical-align: top;\n",
       "    }\n",
       "\n",
       "    .dataframe thead th {\n",
       "        text-align: right;\n",
       "    }\n",
       "</style>\n",
       "<table border=\"1\" class=\"dataframe\">\n",
       "  <thead>\n",
       "    <tr style=\"text-align: right;\">\n",
       "      <th></th>\n",
       "      <th>CREATION_DATE</th>\n",
       "      <th>RESPONSE_DATE</th>\n",
       "      <th>CURRENT_STATUS</th>\n",
       "      <th>ALL_LOG_NOTES_COMBINED</th>\n",
       "      <th>ALERT_STATUS_CHANGED_TIME</th>\n",
       "      <th>CASE_OWNER</th>\n",
       "      <th>FEEDBACK_CALL_DATE</th>\n",
       "      <th>FEEDBACK_CALL_TIME</th>\n",
       "      <th>FEEDBACK_CALL_OUTCOME</th>\n",
       "      <th>APPOINTMENT_FOR_NEXT_CALL</th>\n",
       "      <th>...</th>\n",
       "      <th>4mot_FacturacionPagos</th>\n",
       "      <th>4mot_Servicio</th>\n",
       "      <th>5atr_Sucursal</th>\n",
       "      <th>5mot_Precio</th>\n",
       "      <th>6atr_Eficacia</th>\n",
       "      <th>6mot_Accesibilidad</th>\n",
       "      <th>7mot_Cobertura&amp;poliza</th>\n",
       "      <th>8atr_Demora</th>\n",
       "      <th>8mot_Atencion</th>\n",
       "      <th>atr_Informacion</th>\n",
       "    </tr>\n",
       "  </thead>\n",
       "  <tbody>\n",
       "    <tr>\n",
       "      <th>0</th>\n",
       "      <td>2018-12-05</td>\n",
       "      <td>2019-01-02</td>\n",
       "      <td>Resolved</td>\n",
       "      <td>[2019-01-02 10:46:48] Alert Created: Detractor Consumer: AR; [2019-01-02 10:46:50] Alert status set to New; [2019-01-03 03:32:08] Case Edited: Dueño de este caso (por favor ingresar su nombre) · Fecha del Primer contacto · Hora del Primer contacto · Resultado del Primer contacto · Agenda de próximo contacto (araujo); [2019-01-03 03:59:07] Case Edited: Date of 2nd Feedback Call · Time of 2nd Feedback Call · Outcome of 2nd Feedback Call (araujo); [2019-01-03 04:17:49] Case Edited: Date of 3rd Feedback Call · Time of 3rd Feedback Call · Outcome of 3rd Feedback Call · Descripción detallada del contacto (araujo); [2019-01-03 08:05:51] Case Edited: Descripción detallada del contacto · Fuiste capaz de resolver el inconveniente? · El cliente se encontró satisfecho con el resultado? · Hay riesgos de que el cliente solicite la baja de su póliza? · El cliente desea ser contactado por un representante de Generali? · El cliente recibirá un regalo sorpresa? · Plan de acción para la resolución (araujo); [2019-01-03 08:05:57] Alert Closed (araujo); [2019-01-03 08:06:47] Note Added: 3 intentos de contacto fallidos. se envía mail para una próxima llamada. 5TA LLAMADA SIN EXITO. SE RE ENVIA MAIL DONDE SE LE SOLICITA PEDIR BAJA DEL SEGURO DE AP para dar curso al trámite (araujo); [2019-05-21 04:18:02] Alert Reopened (araujo); [2019-05-21 04:18:06] Alert Resolved (araujo); [2019-05-21 04:18:23] Alert Closed (araujo); [2019-05-21 06:43:03] Alert Reopened (araujo); [2019-05-21 06:43:36] Case Edited: Descripción detallada del contacto · Fuiste capaz de resolver el inconveniente? · El cliente se encontró satisfecho con el resultado? · Hay riesgos de que el cliente solicite la baja de su póliza? · El cliente desea ser contactado por un representante de Generali? · El cliente recibirá un regalo sorpresa? · Plan de acción para la resolución (araujo); [2019-05-21 06:43:42] Alert Resolved (araujo); [2019-05-21 06:43:54] Alert Closed (araujo); [2019-05-21 06:44:00] Alert Reopened (araujo); [2019-05-21 06:44:04] Alert Resolved (araujo)</td>\n",
       "      <td>21/5/2019 06:44:04</td>\n",
       "      <td>vanni gorostiza</td>\n",
       "      <td>3/1/2019</td>\n",
       "      <td>1/12/2019 08:30:00</td>\n",
       "      <td>Not reachable</td>\n",
       "      <td>03/01/2019</td>\n",
       "      <td>...</td>\n",
       "      <td>0</td>\n",
       "      <td>0</td>\n",
       "      <td>0</td>\n",
       "      <td>0</td>\n",
       "      <td>0</td>\n",
       "      <td>0</td>\n",
       "      <td>0</td>\n",
       "      <td>0</td>\n",
       "      <td>0</td>\n",
       "      <td>0</td>\n",
       "    </tr>\n",
       "    <tr>\n",
       "      <th>1</th>\n",
       "      <td>2018-12-05</td>\n",
       "      <td>2019-01-03</td>\n",
       "      <td>0</td>\n",
       "      <td>0</td>\n",
       "      <td>0</td>\n",
       "      <td>0</td>\n",
       "      <td>0</td>\n",
       "      <td>0</td>\n",
       "      <td>0</td>\n",
       "      <td>0</td>\n",
       "      <td>...</td>\n",
       "      <td>0</td>\n",
       "      <td>0</td>\n",
       "      <td>0</td>\n",
       "      <td>0</td>\n",
       "      <td>0</td>\n",
       "      <td>0</td>\n",
       "      <td>0</td>\n",
       "      <td>0</td>\n",
       "      <td>0</td>\n",
       "      <td>0</td>\n",
       "    </tr>\n",
       "  </tbody>\n",
       "</table>\n",
       "<p>2 rows × 197 columns</p>\n",
       "</div>"
      ],
      "text/plain": [
       "  CREATION_DATE RESPONSE_DATE CURRENT_STATUS  \\\n",
       "0    2018-12-05    2019-01-02       Resolved   \n",
       "1    2018-12-05    2019-01-03              0   \n",
       "\n",
       "                                                                                                                                                                                                                                                                                                                                                                                                                                                                                                                                                                                                                                                                                                                                                                                                                                                                                                                                                                                                                                                                                                                                                                                                                                                                                                                                                                                                                                                                                                                                                                                                                                                                                                                                                                                                                                                                                                                                                                                                                                                                                                    ALL_LOG_NOTES_COMBINED  \\\n",
       "0  [2019-01-02 10:46:48] Alert Created: Detractor Consumer: AR; [2019-01-02 10:46:50] Alert status set to New; [2019-01-03 03:32:08] Case Edited: Dueño de este caso (por favor ingresar su nombre) · Fecha del Primer contacto · Hora del Primer contacto · Resultado del Primer contacto · Agenda de próximo contacto (araujo); [2019-01-03 03:59:07] Case Edited: Date of 2nd Feedback Call · Time of 2nd Feedback Call · Outcome of 2nd Feedback Call (araujo); [2019-01-03 04:17:49] Case Edited: Date of 3rd Feedback Call · Time of 3rd Feedback Call · Outcome of 3rd Feedback Call · Descripción detallada del contacto (araujo); [2019-01-03 08:05:51] Case Edited: Descripción detallada del contacto · Fuiste capaz de resolver el inconveniente? · El cliente se encontró satisfecho con el resultado? · Hay riesgos de que el cliente solicite la baja de su póliza? · El cliente desea ser contactado por un representante de Generali? · El cliente recibirá un regalo sorpresa? · Plan de acción para la resolución (araujo); [2019-01-03 08:05:57] Alert Closed (araujo); [2019-01-03 08:06:47] Note Added: 3 intentos de contacto fallidos. se envía mail para una próxima llamada. 5TA LLAMADA SIN EXITO. SE RE ENVIA MAIL DONDE SE LE SOLICITA PEDIR BAJA DEL SEGURO DE AP para dar curso al trámite (araujo); [2019-05-21 04:18:02] Alert Reopened (araujo); [2019-05-21 04:18:06] Alert Resolved (araujo); [2019-05-21 04:18:23] Alert Closed (araujo); [2019-05-21 06:43:03] Alert Reopened (araujo); [2019-05-21 06:43:36] Case Edited: Descripción detallada del contacto · Fuiste capaz de resolver el inconveniente? · El cliente se encontró satisfecho con el resultado? · Hay riesgos de que el cliente solicite la baja de su póliza? · El cliente desea ser contactado por un representante de Generali? · El cliente recibirá un regalo sorpresa? · Plan de acción para la resolución (araujo); [2019-05-21 06:43:42] Alert Resolved (araujo); [2019-05-21 06:43:54] Alert Closed (araujo); [2019-05-21 06:44:00] Alert Reopened (araujo); [2019-05-21 06:44:04] Alert Resolved (araujo)   \n",
       "1                                                                                                                                                                                                                                                                                                                                                                                                                                                                                                                                                                                                                                                                                                                                                                                                                                                                                                                                                                                                                                                                                                                                                                                                                                                                                                                                                                                                                                                                                                                                                                                                                                                                                                                                                                                                                                                                                                                                                                                                                                                                                                                        0   \n",
       "\n",
       "  ALERT_STATUS_CHANGED_TIME       CASE_OWNER FEEDBACK_CALL_DATE  \\\n",
       "0        21/5/2019 06:44:04  vanni gorostiza           3/1/2019   \n",
       "1                         0                0                  0   \n",
       "\n",
       "   FEEDBACK_CALL_TIME FEEDBACK_CALL_OUTCOME APPOINTMENT_FOR_NEXT_CALL  ...  \\\n",
       "0  1/12/2019 08:30:00         Not reachable                03/01/2019  ...   \n",
       "1                   0                     0                         0  ...   \n",
       "\n",
       "   4mot_FacturacionPagos 4mot_Servicio 5atr_Sucursal 5mot_Precio  \\\n",
       "0                      0             0             0           0   \n",
       "1                      0             0             0           0   \n",
       "\n",
       "  6atr_Eficacia 6mot_Accesibilidad 7mot_Cobertura&poliza 8atr_Demora  \\\n",
       "0             0                  0                     0           0   \n",
       "1             0                  0                     0           0   \n",
       "\n",
       "  8mot_Atencion atr_Informacion  \n",
       "0             0               0  \n",
       "1             0               0  \n",
       "\n",
       "[2 rows x 197 columns]"
      ]
     },
     "execution_count": 32,
     "metadata": {},
     "output_type": "execute_result"
    }
   ],
   "source": [
    "tagged.head(2)"
   ]
  },
  {
   "cell_type": "markdown",
   "metadata": {},
   "source": [
    "### Creo columnas de \"motivos\" y \"atributos\""
   ]
  },
  {
   "cell_type": "code",
   "execution_count": 33,
   "metadata": {},
   "outputs": [],
   "source": [
    "#esta función es la que crea un variable con los motivos, y otra con los atributos. Hay que pasarselos de manera explícita\n",
    "def tagTopic(df, newColName, columnNames, split_char =\"|\"):\n",
    "    columnNames = np.array(columnNames)\n",
    "    #print(columnNames)\n",
    "    if split_char != \"|\":\n",
    "        newNames = []\n",
    "        for e in columnNames:\n",
    "            name = e.split(split_char)[1]\n",
    "            print(name)\n",
    "            newNames.append(name)\n",
    "        newNames = np.array(newNames)\n",
    "    df[newColName] = \"|\"\n",
    "    for i in range(df.shape[0]):\n",
    "        #print(\"***********************************\")\n",
    "        #print(df.loc[i, columnNames])\n",
    "        index = df.loc[i, columnNames]>0\n",
    "        #print(newNames[index])\n",
    "        df.at[i, newColName] = newNames[index]"
   ]
  },
  {
   "cell_type": "code",
   "execution_count": 34,
   "metadata": {
    "scrolled": true
   },
   "outputs": [
    {
     "data": {
      "text/plain": [
       "Index(['CREATION_DATE', 'RESPONSE_DATE', 'CURRENT_STATUS',\n",
       "       'ALL_LOG_NOTES_COMBINED', 'ALERT_STATUS_CHANGED_TIME', 'CASE_OWNER',\n",
       "       'FEEDBACK_CALL_DATE', 'FEEDBACK_CALL_TIME', 'FEEDBACK_CALL_OUTCOME',\n",
       "       'APPOINTMENT_FOR_NEXT_CALL',\n",
       "       ...\n",
       "       '4mot_FacturacionPagos', '4mot_Servicio', '5atr_Sucursal',\n",
       "       '5mot_Precio', '6atr_Eficacia', '6mot_Accesibilidad',\n",
       "       '7mot_Cobertura&poliza', '8atr_Demora', '8mot_Atencion',\n",
       "       'atr_Informacion'],\n",
       "      dtype='object', length=197)"
      ]
     },
     "execution_count": 34,
     "metadata": {},
     "output_type": "execute_result"
    }
   ],
   "source": [
    "tagged.columns"
   ]
  },
  {
   "cell_type": "code",
   "execution_count": 35,
   "metadata": {},
   "outputs": [],
   "source": [
    "#guardo los nombres de las columnas con los motivos\n",
    "motivos = tagged.columns[tagged.columns.str.contains(\"mot_\")]"
   ]
  },
  {
   "cell_type": "code",
   "execution_count": 36,
   "metadata": {},
   "outputs": [],
   "source": [
    "#guardo los nomrbes de las columnas con los atributos\n",
    "atributos = tagged.columns[tagged.columns.str.contains(\"atr_\")]"
   ]
  },
  {
   "cell_type": "markdown",
   "metadata": {},
   "source": [
    "#### Tag de \"motivos\""
   ]
  },
  {
   "cell_type": "code",
   "execution_count": 37,
   "metadata": {},
   "outputs": [
    {
     "name": "stdout",
     "output_type": "stream",
     "text": [
      "Grua\n",
      "Siniestro\n",
      "Document&gestion\n",
      "FacturacionPagos\n",
      "Servicio\n",
      "Precio\n",
      "Accesibilidad\n",
      "Cobertura&poliza\n",
      "Atencion\n"
     ]
    }
   ],
   "source": [
    "#creo la variable con los motivos\n",
    "tagTopic(tagged, \"motivos\", motivos, \"_\")"
   ]
  },
  {
   "cell_type": "code",
   "execution_count": 38,
   "metadata": {
    "scrolled": true
   },
   "outputs": [
    {
     "data": {
      "text/html": [
       "<div>\n",
       "<style scoped>\n",
       "    .dataframe tbody tr th:only-of-type {\n",
       "        vertical-align: middle;\n",
       "    }\n",
       "\n",
       "    .dataframe tbody tr th {\n",
       "        vertical-align: top;\n",
       "    }\n",
       "\n",
       "    .dataframe thead th {\n",
       "        text-align: right;\n",
       "    }\n",
       "</style>\n",
       "<table border=\"1\" class=\"dataframe\">\n",
       "  <thead>\n",
       "    <tr style=\"text-align: right;\">\n",
       "      <th></th>\n",
       "      <th>CREATION_DATE</th>\n",
       "      <th>RESPONSE_DATE</th>\n",
       "      <th>CURRENT_STATUS</th>\n",
       "      <th>ALL_LOG_NOTES_COMBINED</th>\n",
       "      <th>ALERT_STATUS_CHANGED_TIME</th>\n",
       "      <th>CASE_OWNER</th>\n",
       "      <th>FEEDBACK_CALL_DATE</th>\n",
       "      <th>FEEDBACK_CALL_TIME</th>\n",
       "      <th>FEEDBACK_CALL_OUTCOME</th>\n",
       "      <th>APPOINTMENT_FOR_NEXT_CALL</th>\n",
       "      <th>...</th>\n",
       "      <th>4mot_Servicio</th>\n",
       "      <th>5atr_Sucursal</th>\n",
       "      <th>5mot_Precio</th>\n",
       "      <th>6atr_Eficacia</th>\n",
       "      <th>6mot_Accesibilidad</th>\n",
       "      <th>7mot_Cobertura&amp;poliza</th>\n",
       "      <th>8atr_Demora</th>\n",
       "      <th>8mot_Atencion</th>\n",
       "      <th>atr_Informacion</th>\n",
       "      <th>motivos</th>\n",
       "    </tr>\n",
       "  </thead>\n",
       "  <tbody>\n",
       "    <tr>\n",
       "      <th>125603</th>\n",
       "      <td>2021-02-04</td>\n",
       "      <td>2021-02-04</td>\n",
       "      <td>0</td>\n",
       "      <td>0</td>\n",
       "      <td>0</td>\n",
       "      <td>0</td>\n",
       "      <td>0</td>\n",
       "      <td>0</td>\n",
       "      <td>0</td>\n",
       "      <td>0</td>\n",
       "      <td>...</td>\n",
       "      <td>1</td>\n",
       "      <td>0</td>\n",
       "      <td>0</td>\n",
       "      <td>0</td>\n",
       "      <td>0</td>\n",
       "      <td>0</td>\n",
       "      <td>0</td>\n",
       "      <td>0</td>\n",
       "      <td>0</td>\n",
       "      <td>[Servicio]</td>\n",
       "    </tr>\n",
       "    <tr>\n",
       "      <th>125604</th>\n",
       "      <td>2021-02-04</td>\n",
       "      <td>2021-02-04</td>\n",
       "      <td>Closed</td>\n",
       "      <td>[2021-02-04 15:49:53] Alert Created: Promoter Autoclose: AR; [2021-02-04 15:49:57] Alert Closed</td>\n",
       "      <td>4/2/2021 15:49:57</td>\n",
       "      <td>0</td>\n",
       "      <td>0</td>\n",
       "      <td>0</td>\n",
       "      <td>0</td>\n",
       "      <td>0</td>\n",
       "      <td>...</td>\n",
       "      <td>0</td>\n",
       "      <td>0</td>\n",
       "      <td>0</td>\n",
       "      <td>0</td>\n",
       "      <td>0</td>\n",
       "      <td>0</td>\n",
       "      <td>0</td>\n",
       "      <td>1</td>\n",
       "      <td>0</td>\n",
       "      <td>[Atencion]</td>\n",
       "    </tr>\n",
       "  </tbody>\n",
       "</table>\n",
       "<p>2 rows × 198 columns</p>\n",
       "</div>"
      ],
      "text/plain": [
       "       CREATION_DATE RESPONSE_DATE CURRENT_STATUS  \\\n",
       "125603    2021-02-04    2021-02-04              0   \n",
       "125604    2021-02-04    2021-02-04         Closed   \n",
       "\n",
       "                                                                                 ALL_LOG_NOTES_COMBINED  \\\n",
       "125603                                                                                                0   \n",
       "125604  [2021-02-04 15:49:53] Alert Created: Promoter Autoclose: AR; [2021-02-04 15:49:57] Alert Closed   \n",
       "\n",
       "       ALERT_STATUS_CHANGED_TIME CASE_OWNER FEEDBACK_CALL_DATE  \\\n",
       "125603                         0          0                  0   \n",
       "125604         4/2/2021 15:49:57          0                  0   \n",
       "\n",
       "       FEEDBACK_CALL_TIME FEEDBACK_CALL_OUTCOME APPOINTMENT_FOR_NEXT_CALL  \\\n",
       "125603                  0                     0                         0   \n",
       "125604                  0                     0                         0   \n",
       "\n",
       "        ...  4mot_Servicio 5atr_Sucursal 5mot_Precio 6atr_Eficacia  \\\n",
       "125603  ...              1             0           0             0   \n",
       "125604  ...              0             0           0             0   \n",
       "\n",
       "       6mot_Accesibilidad 7mot_Cobertura&poliza 8atr_Demora 8mot_Atencion  \\\n",
       "125603                  0                     0           0             0   \n",
       "125604                  0                     0           0             1   \n",
       "\n",
       "       atr_Informacion     motivos  \n",
       "125603               0  [Servicio]  \n",
       "125604               0  [Atencion]  \n",
       "\n",
       "[2 rows x 198 columns]"
      ]
     },
     "execution_count": 38,
     "metadata": {},
     "output_type": "execute_result"
    }
   ],
   "source": [
    "tagged.tail(2)"
   ]
  },
  {
   "cell_type": "markdown",
   "metadata": {},
   "source": [
    "#### Tag de \"atributos\""
   ]
  },
  {
   "cell_type": "code",
   "execution_count": 39,
   "metadata": {},
   "outputs": [
    {
     "name": "stdout",
     "output_type": "stream",
     "text": [
      "Baja\n",
      "Reiteracion\n",
      "Callcenter\n",
      "Digital\n",
      "Conformidad\n",
      "Sucursal\n",
      "Eficacia\n",
      "Demora\n",
      "Informacion\n"
     ]
    }
   ],
   "source": [
    "tagTopic(tagged, \"atributos\", atributos, \"_\")"
   ]
  },
  {
   "cell_type": "code",
   "execution_count": 40,
   "metadata": {
    "scrolled": true
   },
   "outputs": [
    {
     "data": {
      "text/html": [
       "<div>\n",
       "<style scoped>\n",
       "    .dataframe tbody tr th:only-of-type {\n",
       "        vertical-align: middle;\n",
       "    }\n",
       "\n",
       "    .dataframe tbody tr th {\n",
       "        vertical-align: top;\n",
       "    }\n",
       "\n",
       "    .dataframe thead th {\n",
       "        text-align: right;\n",
       "    }\n",
       "</style>\n",
       "<table border=\"1\" class=\"dataframe\">\n",
       "  <thead>\n",
       "    <tr style=\"text-align: right;\">\n",
       "      <th></th>\n",
       "      <th>CREATION_DATE</th>\n",
       "      <th>RESPONSE_DATE</th>\n",
       "      <th>CURRENT_STATUS</th>\n",
       "      <th>ALL_LOG_NOTES_COMBINED</th>\n",
       "      <th>ALERT_STATUS_CHANGED_TIME</th>\n",
       "      <th>CASE_OWNER</th>\n",
       "      <th>FEEDBACK_CALL_DATE</th>\n",
       "      <th>FEEDBACK_CALL_TIME</th>\n",
       "      <th>FEEDBACK_CALL_OUTCOME</th>\n",
       "      <th>APPOINTMENT_FOR_NEXT_CALL</th>\n",
       "      <th>...</th>\n",
       "      <th>5atr_Sucursal</th>\n",
       "      <th>5mot_Precio</th>\n",
       "      <th>6atr_Eficacia</th>\n",
       "      <th>6mot_Accesibilidad</th>\n",
       "      <th>7mot_Cobertura&amp;poliza</th>\n",
       "      <th>8atr_Demora</th>\n",
       "      <th>8mot_Atencion</th>\n",
       "      <th>atr_Informacion</th>\n",
       "      <th>motivos</th>\n",
       "      <th>atributos</th>\n",
       "    </tr>\n",
       "  </thead>\n",
       "  <tbody>\n",
       "    <tr>\n",
       "      <th>0</th>\n",
       "      <td>2018-12-05</td>\n",
       "      <td>2019-01-02</td>\n",
       "      <td>Resolved</td>\n",
       "      <td>[2019-01-02 10:46:48] Alert Created: Detractor Consumer: AR; [2019-01-02 10:46:50] Alert status set to New; [2019-01-03 03:32:08] Case Edited: Dueño de este caso (por favor ingresar su nombre) · Fecha del Primer contacto · Hora del Primer contacto · Resultado del Primer contacto · Agenda de próximo contacto (araujo); [2019-01-03 03:59:07] Case Edited: Date of 2nd Feedback Call · Time of 2nd Feedback Call · Outcome of 2nd Feedback Call (araujo); [2019-01-03 04:17:49] Case Edited: Date of 3rd Feedback Call · Time of 3rd Feedback Call · Outcome of 3rd Feedback Call · Descripción detallada del contacto (araujo); [2019-01-03 08:05:51] Case Edited: Descripción detallada del contacto · Fuiste capaz de resolver el inconveniente? · El cliente se encontró satisfecho con el resultado? · Hay riesgos de que el cliente solicite la baja de su póliza? · El cliente desea ser contactado por un representante de Generali? · El cliente recibirá un regalo sorpresa? · Plan de acción para la resolución (araujo); [2019-01-03 08:05:57] Alert Closed (araujo); [2019-01-03 08:06:47] Note Added: 3 intentos de contacto fallidos. se envía mail para una próxima llamada. 5TA LLAMADA SIN EXITO. SE RE ENVIA MAIL DONDE SE LE SOLICITA PEDIR BAJA DEL SEGURO DE AP para dar curso al trámite (araujo); [2019-05-21 04:18:02] Alert Reopened (araujo); [2019-05-21 04:18:06] Alert Resolved (araujo); [2019-05-21 04:18:23] Alert Closed (araujo); [2019-05-21 06:43:03] Alert Reopened (araujo); [2019-05-21 06:43:36] Case Edited: Descripción detallada del contacto · Fuiste capaz de resolver el inconveniente? · El cliente se encontró satisfecho con el resultado? · Hay riesgos de que el cliente solicite la baja de su póliza? · El cliente desea ser contactado por un representante de Generali? · El cliente recibirá un regalo sorpresa? · Plan de acción para la resolución (araujo); [2019-05-21 06:43:42] Alert Resolved (araujo); [2019-05-21 06:43:54] Alert Closed (araujo); [2019-05-21 06:44:00] Alert Reopened (araujo); [2019-05-21 06:44:04] Alert Resolved (araujo)</td>\n",
       "      <td>21/5/2019 06:44:04</td>\n",
       "      <td>vanni gorostiza</td>\n",
       "      <td>3/1/2019</td>\n",
       "      <td>1/12/2019 08:30:00</td>\n",
       "      <td>Not reachable</td>\n",
       "      <td>03/01/2019</td>\n",
       "      <td>...</td>\n",
       "      <td>0</td>\n",
       "      <td>0</td>\n",
       "      <td>0</td>\n",
       "      <td>0</td>\n",
       "      <td>0</td>\n",
       "      <td>0</td>\n",
       "      <td>0</td>\n",
       "      <td>0</td>\n",
       "      <td>[]</td>\n",
       "      <td>[]</td>\n",
       "    </tr>\n",
       "    <tr>\n",
       "      <th>1</th>\n",
       "      <td>2018-12-05</td>\n",
       "      <td>2019-01-03</td>\n",
       "      <td>0</td>\n",
       "      <td>0</td>\n",
       "      <td>0</td>\n",
       "      <td>0</td>\n",
       "      <td>0</td>\n",
       "      <td>0</td>\n",
       "      <td>0</td>\n",
       "      <td>0</td>\n",
       "      <td>...</td>\n",
       "      <td>0</td>\n",
       "      <td>0</td>\n",
       "      <td>0</td>\n",
       "      <td>0</td>\n",
       "      <td>0</td>\n",
       "      <td>0</td>\n",
       "      <td>0</td>\n",
       "      <td>0</td>\n",
       "      <td>[]</td>\n",
       "      <td>[]</td>\n",
       "    </tr>\n",
       "  </tbody>\n",
       "</table>\n",
       "<p>2 rows × 199 columns</p>\n",
       "</div>"
      ],
      "text/plain": [
       "  CREATION_DATE RESPONSE_DATE CURRENT_STATUS  \\\n",
       "0    2018-12-05    2019-01-02       Resolved   \n",
       "1    2018-12-05    2019-01-03              0   \n",
       "\n",
       "                                                                                                                                                                                                                                                                                                                                                                                                                                                                                                                                                                                                                                                                                                                                                                                                                                                                                                                                                                                                                                                                                                                                                                                                                                                                                                                                                                                                                                                                                                                                                                                                                                                                                                                                                                                                                                                                                                                                                                                                                                                                                                    ALL_LOG_NOTES_COMBINED  \\\n",
       "0  [2019-01-02 10:46:48] Alert Created: Detractor Consumer: AR; [2019-01-02 10:46:50] Alert status set to New; [2019-01-03 03:32:08] Case Edited: Dueño de este caso (por favor ingresar su nombre) · Fecha del Primer contacto · Hora del Primer contacto · Resultado del Primer contacto · Agenda de próximo contacto (araujo); [2019-01-03 03:59:07] Case Edited: Date of 2nd Feedback Call · Time of 2nd Feedback Call · Outcome of 2nd Feedback Call (araujo); [2019-01-03 04:17:49] Case Edited: Date of 3rd Feedback Call · Time of 3rd Feedback Call · Outcome of 3rd Feedback Call · Descripción detallada del contacto (araujo); [2019-01-03 08:05:51] Case Edited: Descripción detallada del contacto · Fuiste capaz de resolver el inconveniente? · El cliente se encontró satisfecho con el resultado? · Hay riesgos de que el cliente solicite la baja de su póliza? · El cliente desea ser contactado por un representante de Generali? · El cliente recibirá un regalo sorpresa? · Plan de acción para la resolución (araujo); [2019-01-03 08:05:57] Alert Closed (araujo); [2019-01-03 08:06:47] Note Added: 3 intentos de contacto fallidos. se envía mail para una próxima llamada. 5TA LLAMADA SIN EXITO. SE RE ENVIA MAIL DONDE SE LE SOLICITA PEDIR BAJA DEL SEGURO DE AP para dar curso al trámite (araujo); [2019-05-21 04:18:02] Alert Reopened (araujo); [2019-05-21 04:18:06] Alert Resolved (araujo); [2019-05-21 04:18:23] Alert Closed (araujo); [2019-05-21 06:43:03] Alert Reopened (araujo); [2019-05-21 06:43:36] Case Edited: Descripción detallada del contacto · Fuiste capaz de resolver el inconveniente? · El cliente se encontró satisfecho con el resultado? · Hay riesgos de que el cliente solicite la baja de su póliza? · El cliente desea ser contactado por un representante de Generali? · El cliente recibirá un regalo sorpresa? · Plan de acción para la resolución (araujo); [2019-05-21 06:43:42] Alert Resolved (araujo); [2019-05-21 06:43:54] Alert Closed (araujo); [2019-05-21 06:44:00] Alert Reopened (araujo); [2019-05-21 06:44:04] Alert Resolved (araujo)   \n",
       "1                                                                                                                                                                                                                                                                                                                                                                                                                                                                                                                                                                                                                                                                                                                                                                                                                                                                                                                                                                                                                                                                                                                                                                                                                                                                                                                                                                                                                                                                                                                                                                                                                                                                                                                                                                                                                                                                                                                                                                                                                                                                                                                        0   \n",
       "\n",
       "  ALERT_STATUS_CHANGED_TIME       CASE_OWNER FEEDBACK_CALL_DATE  \\\n",
       "0        21/5/2019 06:44:04  vanni gorostiza           3/1/2019   \n",
       "1                         0                0                  0   \n",
       "\n",
       "   FEEDBACK_CALL_TIME FEEDBACK_CALL_OUTCOME APPOINTMENT_FOR_NEXT_CALL  ...  \\\n",
       "0  1/12/2019 08:30:00         Not reachable                03/01/2019  ...   \n",
       "1                   0                     0                         0  ...   \n",
       "\n",
       "   5atr_Sucursal 5mot_Precio 6atr_Eficacia 6mot_Accesibilidad  \\\n",
       "0              0           0             0                  0   \n",
       "1              0           0             0                  0   \n",
       "\n",
       "  7mot_Cobertura&poliza 8atr_Demora 8mot_Atencion atr_Informacion motivos  \\\n",
       "0                     0           0             0               0      []   \n",
       "1                     0           0             0               0      []   \n",
       "\n",
       "  atributos  \n",
       "0        []  \n",
       "1        []  \n",
       "\n",
       "[2 rows x 199 columns]"
      ]
     },
     "execution_count": 40,
     "metadata": {},
     "output_type": "execute_result"
    }
   ],
   "source": [
    "tagged.head(2)"
   ]
  },
  {
   "cell_type": "code",
   "execution_count": 41,
   "metadata": {},
   "outputs": [],
   "source": [
    "#convierte las columnas recién creadas a strings porque eran numpy arrays\n",
    "tagged[\"motivos\"] = tagged[\"motivos\"].astype(str)"
   ]
  },
  {
   "cell_type": "code",
   "execution_count": 42,
   "metadata": {},
   "outputs": [
    {
     "data": {
      "text/plain": [
       "[]                                                                                                                                38532\n",
       "['Atencion']                                                                                                                      32654\n",
       "['Servicio']                                                                                                                       7885\n",
       "['Accesibilidad' 'Atencion']                                                                                                       7469\n",
       "['Accesibilidad']                                                                                                                  3491\n",
       "                                                                                                                                  ...  \n",
       "['Grua' 'Siniestro' 'Document&gestion' 'Servicio' 'Accesibilidad'\\n 'Atencion']                                                       1\n",
       "['Siniestro' 'Document&gestion' 'Servicio' 'Precio']                                                                                  1\n",
       "['Grua' 'Siniestro' 'Document&gestion' 'FacturacionPagos' 'Servicio'\\n 'Precio' 'Accesibilidad' 'Cobertura&poliza' 'Atencion']        1\n",
       "['Grua' 'Siniestro' 'Document&gestion' 'FacturacionPagos']                                                                            1\n",
       "['Grua' 'Siniestro' 'FacturacionPagos' 'Atencion']                                                                                    1\n",
       "Name: motivos, Length: 412, dtype: int64"
      ]
     },
     "execution_count": 42,
     "metadata": {},
     "output_type": "execute_result"
    }
   ],
   "source": [
    "tagged[\"motivos\"].value_counts()"
   ]
  },
  {
   "cell_type": "code",
   "execution_count": 43,
   "metadata": {},
   "outputs": [],
   "source": [
    "tagged[\"atributos\"] = tagged[\"atributos\"].astype(str)"
   ]
  },
  {
   "cell_type": "code",
   "execution_count": 44,
   "metadata": {},
   "outputs": [
    {
     "data": {
      "text/plain": [
       "Index(['CREATION_DATE', 'RESPONSE_DATE', 'CURRENT_STATUS',\n",
       "       'ALL_LOG_NOTES_COMBINED', 'ALERT_STATUS_CHANGED_TIME', 'CASE_OWNER',\n",
       "       'FEEDBACK_CALL_DATE', 'FEEDBACK_CALL_TIME', 'FEEDBACK_CALL_OUTCOME',\n",
       "       'APPOINTMENT_FOR_NEXT_CALL',\n",
       "       ...\n",
       "       '5atr_Sucursal', '5mot_Precio', '6atr_Eficacia', '6mot_Accesibilidad',\n",
       "       '7mot_Cobertura&poliza', '8atr_Demora', '8mot_Atencion',\n",
       "       'atr_Informacion', 'motivos', 'atributos'],\n",
       "      dtype='object', length=199)"
      ]
     },
     "execution_count": 44,
     "metadata": {},
     "output_type": "execute_result"
    }
   ],
   "source": [
    "tagged.columns"
   ]
  },
  {
   "cell_type": "code",
   "execution_count": 45,
   "metadata": {},
   "outputs": [
    {
     "data": {
      "text/plain": [
       "[]                                                                    57782\n",
       "['Eficacia']                                                          31117\n",
       "['Conformidad' 'Demora']                                               6509\n",
       "['Conformidad']                                                        6087\n",
       "['Demora']                                                             4622\n",
       "                                                                      ...  \n",
       "['Digital' 'Conformidad' 'Sucursal' 'Eficacia' 'Informacion']             1\n",
       "['Reiteracion' 'Eficacia' 'Demora' 'Informacion']                         1\n",
       "['Baja' 'Reiteracion' 'Digital' 'Conformidad' 'Demora']                   1\n",
       "['Baja' 'Digital' 'Conformidad' 'Sucursal' 'Demora' 'Informacion']        1\n",
       "['Baja' 'Callcenter' 'Digital' 'Eficacia' 'Demora' 'Informacion']         1\n",
       "Name: atributos, Length: 288, dtype: int64"
      ]
     },
     "execution_count": 45,
     "metadata": {},
     "output_type": "execute_result"
    }
   ],
   "source": [
    "tagged[\"atributos\"].value_counts()"
   ]
  },
  {
   "cell_type": "code",
   "execution_count": 46,
   "metadata": {},
   "outputs": [],
   "source": [
    "# chequeo as observaciones taggeadas por un motivo o atributo\n",
    "tagged[\"detected\"] =  ~np.logical_and(tagged[\"motivos\"] == \"[]\", tagged[\"atributos\"] == \"[]\")"
   ]
  },
  {
   "cell_type": "code",
   "execution_count": 47,
   "metadata": {},
   "outputs": [
    {
     "data": {
      "text/plain": [
       "NPS_SEGMENT\n",
       "Detractor    0.872937\n",
       "Neutro       0.808081\n",
       "Promotor     0.866986\n",
       "Name: detected, dtype: float64"
      ]
     },
     "execution_count": 47,
     "metadata": {},
     "output_type": "execute_result"
    }
   ],
   "source": [
    "tagged.groupby(\"NPS_SEGMENT\")[\"detected\"].mean()"
   ]
  },
  {
   "cell_type": "markdown",
   "metadata": {},
   "source": [
    "### 1. Export dataset taggeado"
   ]
  },
  {
   "cell_type": "markdown",
   "metadata": {},
   "source": [
    "tagged.to_csv(dashboard+ \"1-tagged.csv\")"
   ]
  },
  {
   "cell_type": "markdown",
   "metadata": {},
   "source": [
    "### Dataframe de motivos"
   ]
  },
  {
   "cell_type": "markdown",
   "metadata": {},
   "source": [
    "Este dataframe se va a visualizar en tableau/powerbi"
   ]
  },
  {
   "cell_type": "code",
   "execution_count": 48,
   "metadata": {},
   "outputs": [],
   "source": [
    "topics = tagged.groupby([\"year_month\",\"motivos\",\"NPS_SEGMENT\"])[\"TNPS_SCORE\"].count().unstack()"
   ]
  },
  {
   "cell_type": "code",
   "execution_count": 49,
   "metadata": {},
   "outputs": [],
   "source": [
    "topics.replace(np.NaN, 0, inplace=True)"
   ]
  },
  {
   "cell_type": "code",
   "execution_count": 50,
   "metadata": {},
   "outputs": [],
   "source": [
    "topics = topics.astype(int)"
   ]
  },
  {
   "cell_type": "code",
   "execution_count": 51,
   "metadata": {},
   "outputs": [
    {
     "data": {
      "text/html": [
       "<div>\n",
       "<style scoped>\n",
       "    .dataframe tbody tr th:only-of-type {\n",
       "        vertical-align: middle;\n",
       "    }\n",
       "\n",
       "    .dataframe tbody tr th {\n",
       "        vertical-align: top;\n",
       "    }\n",
       "\n",
       "    .dataframe thead th {\n",
       "        text-align: right;\n",
       "    }\n",
       "</style>\n",
       "<table border=\"1\" class=\"dataframe\">\n",
       "  <thead>\n",
       "    <tr style=\"text-align: right;\">\n",
       "      <th></th>\n",
       "      <th>NPS_SEGMENT</th>\n",
       "      <th>Detractor</th>\n",
       "      <th>Neutro</th>\n",
       "      <th>Promotor</th>\n",
       "    </tr>\n",
       "    <tr>\n",
       "      <th>year_month</th>\n",
       "      <th>motivos</th>\n",
       "      <th></th>\n",
       "      <th></th>\n",
       "      <th></th>\n",
       "    </tr>\n",
       "  </thead>\n",
       "  <tbody>\n",
       "    <tr>\n",
       "      <th rowspan=\"2\" valign=\"top\">2019-01</th>\n",
       "      <th>['Accesibilidad' 'Atencion']</th>\n",
       "      <td>25</td>\n",
       "      <td>45</td>\n",
       "      <td>189</td>\n",
       "    </tr>\n",
       "    <tr>\n",
       "      <th>['Accesibilidad' 'Cobertura&amp;poliza' 'Atencion']</th>\n",
       "      <td>2</td>\n",
       "      <td>0</td>\n",
       "      <td>3</td>\n",
       "    </tr>\n",
       "  </tbody>\n",
       "</table>\n",
       "</div>"
      ],
      "text/plain": [
       "NPS_SEGMENT                                                 Detractor  Neutro  \\\n",
       "year_month motivos                                                              \n",
       "2019-01    ['Accesibilidad' 'Atencion']                            25      45   \n",
       "           ['Accesibilidad' 'Cobertura&poliza' 'Atencion']          2       0   \n",
       "\n",
       "NPS_SEGMENT                                                 Promotor  \n",
       "year_month motivos                                                    \n",
       "2019-01    ['Accesibilidad' 'Atencion']                          189  \n",
       "           ['Accesibilidad' 'Cobertura&poliza' 'Atencion']         3  "
      ]
     },
     "execution_count": 51,
     "metadata": {},
     "output_type": "execute_result"
    }
   ],
   "source": [
    "topics.head(2)"
   ]
  },
  {
   "cell_type": "code",
   "execution_count": 52,
   "metadata": {},
   "outputs": [
    {
     "data": {
      "text/plain": [
       "NPS_SEGMENT\n",
       "Detractor    0\n",
       "Neutro       0\n",
       "Promotor     0\n",
       "dtype: int64"
      ]
     },
     "execution_count": 52,
     "metadata": {},
     "output_type": "execute_result"
    }
   ],
   "source": [
    "topics.isna().sum()"
   ]
  },
  {
   "cell_type": "code",
   "execution_count": 53,
   "metadata": {},
   "outputs": [],
   "source": [
    "#creo otra matriz con el porcentaje de detractores, neutros, etc\n",
    "topics_per = topics.div(topics.sum(axis=1), axis=0).round(2) *100"
   ]
  },
  {
   "cell_type": "code",
   "execution_count": 54,
   "metadata": {},
   "outputs": [],
   "source": [
    "topics_per = topics_per.astype(int)"
   ]
  },
  {
   "cell_type": "code",
   "execution_count": 55,
   "metadata": {},
   "outputs": [
    {
     "data": {
      "text/html": [
       "<div>\n",
       "<style scoped>\n",
       "    .dataframe tbody tr th:only-of-type {\n",
       "        vertical-align: middle;\n",
       "    }\n",
       "\n",
       "    .dataframe tbody tr th {\n",
       "        vertical-align: top;\n",
       "    }\n",
       "\n",
       "    .dataframe thead th {\n",
       "        text-align: right;\n",
       "    }\n",
       "</style>\n",
       "<table border=\"1\" class=\"dataframe\">\n",
       "  <thead>\n",
       "    <tr style=\"text-align: right;\">\n",
       "      <th></th>\n",
       "      <th>NPS_SEGMENT</th>\n",
       "      <th>Detractor</th>\n",
       "      <th>Neutro</th>\n",
       "      <th>Promotor</th>\n",
       "    </tr>\n",
       "    <tr>\n",
       "      <th>year_month</th>\n",
       "      <th>motivos</th>\n",
       "      <th></th>\n",
       "      <th></th>\n",
       "      <th></th>\n",
       "    </tr>\n",
       "  </thead>\n",
       "  <tbody>\n",
       "    <tr>\n",
       "      <th rowspan=\"2\" valign=\"top\">2019-01</th>\n",
       "      <th>['Accesibilidad' 'Atencion']</th>\n",
       "      <td>10</td>\n",
       "      <td>17</td>\n",
       "      <td>73</td>\n",
       "    </tr>\n",
       "    <tr>\n",
       "      <th>['Accesibilidad' 'Cobertura&amp;poliza' 'Atencion']</th>\n",
       "      <td>40</td>\n",
       "      <td>0</td>\n",
       "      <td>60</td>\n",
       "    </tr>\n",
       "  </tbody>\n",
       "</table>\n",
       "</div>"
      ],
      "text/plain": [
       "NPS_SEGMENT                                                 Detractor  Neutro  \\\n",
       "year_month motivos                                                              \n",
       "2019-01    ['Accesibilidad' 'Atencion']                            10      17   \n",
       "           ['Accesibilidad' 'Cobertura&poliza' 'Atencion']         40       0   \n",
       "\n",
       "NPS_SEGMENT                                                 Promotor  \n",
       "year_month motivos                                                    \n",
       "2019-01    ['Accesibilidad' 'Atencion']                           73  \n",
       "           ['Accesibilidad' 'Cobertura&poliza' 'Atencion']        60  "
      ]
     },
     "execution_count": 55,
     "metadata": {},
     "output_type": "execute_result"
    }
   ],
   "source": [
    "topics_per.head(2)"
   ]
  },
  {
   "cell_type": "code",
   "execution_count": 56,
   "metadata": {},
   "outputs": [],
   "source": [
    "topics_per.columns = \"(%)\"+ topics_per.columns"
   ]
  },
  {
   "cell_type": "code",
   "execution_count": 57,
   "metadata": {},
   "outputs": [],
   "source": [
    "topics[\"total_surveys\"] = topics.sum(axis=1)"
   ]
  },
  {
   "cell_type": "code",
   "execution_count": 58,
   "metadata": {},
   "outputs": [],
   "source": [
    "#uno los dos data frames con val absolutos y porcentajes\n",
    "topics = topics.merge(topics_per, left_index =True, right_index = True)"
   ]
  },
  {
   "cell_type": "code",
   "execution_count": 59,
   "metadata": {},
   "outputs": [],
   "source": [
    "topics.reset_index(inplace=True)"
   ]
  },
  {
   "cell_type": "code",
   "execution_count": 60,
   "metadata": {},
   "outputs": [],
   "source": [
    "topics.total_surveys = topics.total_surveys.astype(int)"
   ]
  },
  {
   "cell_type": "code",
   "execution_count": 61,
   "metadata": {},
   "outputs": [],
   "source": [
    "topics[\"speech_tag\"] = \"motivos\""
   ]
  },
  {
   "cell_type": "code",
   "execution_count": 62,
   "metadata": {},
   "outputs": [],
   "source": [
    "topics.rename(columns={\"motivos\": \"topic\"}, inplace=True)"
   ]
  },
  {
   "cell_type": "code",
   "execution_count": 63,
   "metadata": {},
   "outputs": [
    {
     "data": {
      "text/html": [
       "<div>\n",
       "<style scoped>\n",
       "    .dataframe tbody tr th:only-of-type {\n",
       "        vertical-align: middle;\n",
       "    }\n",
       "\n",
       "    .dataframe tbody tr th {\n",
       "        vertical-align: top;\n",
       "    }\n",
       "\n",
       "    .dataframe thead th {\n",
       "        text-align: right;\n",
       "    }\n",
       "</style>\n",
       "<table border=\"1\" class=\"dataframe\">\n",
       "  <thead>\n",
       "    <tr style=\"text-align: right;\">\n",
       "      <th>NPS_SEGMENT</th>\n",
       "      <th>year_month</th>\n",
       "      <th>topic</th>\n",
       "      <th>Detractor</th>\n",
       "      <th>Neutro</th>\n",
       "      <th>Promotor</th>\n",
       "      <th>total_surveys</th>\n",
       "      <th>(%)Detractor</th>\n",
       "      <th>(%)Neutro</th>\n",
       "      <th>(%)Promotor</th>\n",
       "      <th>speech_tag</th>\n",
       "    </tr>\n",
       "  </thead>\n",
       "  <tbody>\n",
       "    <tr>\n",
       "      <th>0</th>\n",
       "      <td>2019-01</td>\n",
       "      <td>['Accesibilidad' 'Atencion']</td>\n",
       "      <td>25</td>\n",
       "      <td>45</td>\n",
       "      <td>189</td>\n",
       "      <td>259</td>\n",
       "      <td>10</td>\n",
       "      <td>17</td>\n",
       "      <td>73</td>\n",
       "      <td>motivos</td>\n",
       "    </tr>\n",
       "    <tr>\n",
       "      <th>1</th>\n",
       "      <td>2019-01</td>\n",
       "      <td>['Accesibilidad' 'Cobertura&amp;poliza' 'Atencion']</td>\n",
       "      <td>2</td>\n",
       "      <td>0</td>\n",
       "      <td>3</td>\n",
       "      <td>5</td>\n",
       "      <td>40</td>\n",
       "      <td>0</td>\n",
       "      <td>60</td>\n",
       "      <td>motivos</td>\n",
       "    </tr>\n",
       "  </tbody>\n",
       "</table>\n",
       "</div>"
      ],
      "text/plain": [
       "NPS_SEGMENT year_month                                            topic  \\\n",
       "0              2019-01                     ['Accesibilidad' 'Atencion']   \n",
       "1              2019-01  ['Accesibilidad' 'Cobertura&poliza' 'Atencion']   \n",
       "\n",
       "NPS_SEGMENT  Detractor  Neutro  Promotor  total_surveys  (%)Detractor  \\\n",
       "0                   25      45       189            259            10   \n",
       "1                    2       0         3              5            40   \n",
       "\n",
       "NPS_SEGMENT  (%)Neutro  (%)Promotor speech_tag  \n",
       "0                   17           73    motivos  \n",
       "1                    0           60    motivos  "
      ]
     },
     "execution_count": 63,
     "metadata": {},
     "output_type": "execute_result"
    }
   ],
   "source": [
    "topics.head(2)"
   ]
  },
  {
   "cell_type": "markdown",
   "metadata": {},
   "source": [
    "### 2. Export topicos\n"
   ]
  },
  {
   "cell_type": "markdown",
   "metadata": {},
   "source": [
    "topics.to_csv(dashboard + \"2-topics_monthly.csv\")"
   ]
  },
  {
   "cell_type": "markdown",
   "metadata": {},
   "source": [
    "### Montly view"
   ]
  },
  {
   "cell_type": "code",
   "execution_count": 64,
   "metadata": {},
   "outputs": [],
   "source": [
    "#import seaborn as sns"
   ]
  },
  {
   "cell_type": "code",
   "execution_count": 65,
   "metadata": {},
   "outputs": [],
   "source": [
    "monthly_nps = df.groupby([\"year_month\",\"NPS_SEGMENT\"])[\"TNPS_SCORE\"].count().unstack()"
   ]
  },
  {
   "cell_type": "code",
   "execution_count": 66,
   "metadata": {},
   "outputs": [
    {
     "data": {
      "text/plain": [
       "array([4201, 3766, 2934, 3116, 3594, 4723, 6305, 6072, 5996, 6053, 5109,\n",
       "       5789, 6886, 5594, 3616, 4570, 6052, 6236, 5286, 5459, 5058, 5400,\n",
       "       4163, 4071, 4356, 1200], dtype=int64)"
      ]
     },
     "execution_count": 66,
     "metadata": {},
     "output_type": "execute_result"
    }
   ],
   "source": [
    "np.array(monthly_nps.sum(axis=1))"
   ]
  },
  {
   "cell_type": "code",
   "execution_count": 67,
   "metadata": {},
   "outputs": [],
   "source": [
    "monthly_nps_per = monthly_nps.div(monthly_nps.sum(axis=1), axis=0).round(2) *100"
   ]
  },
  {
   "cell_type": "code",
   "execution_count": 68,
   "metadata": {},
   "outputs": [],
   "source": [
    "monthly_nps_per = monthly_nps_per.astype(int)"
   ]
  },
  {
   "cell_type": "code",
   "execution_count": 69,
   "metadata": {},
   "outputs": [],
   "source": [
    "monthly_nps_per.columns = \"(%)\"+ monthly_nps_per.columns"
   ]
  },
  {
   "cell_type": "code",
   "execution_count": 70,
   "metadata": {},
   "outputs": [],
   "source": [
    "monthly_nps = monthly_nps.merge(monthly_nps_per, left_index =True, right_index = True)"
   ]
  },
  {
   "cell_type": "code",
   "execution_count": 71,
   "metadata": {},
   "outputs": [],
   "source": [
    "monthly_nps[\"total_surveys\"] = monthly_nps.sum(axis=1)"
   ]
  },
  {
   "cell_type": "code",
   "execution_count": 72,
   "metadata": {},
   "outputs": [],
   "source": [
    "monthly_nps.reset_index(inplace=True)"
   ]
  },
  {
   "cell_type": "code",
   "execution_count": 73,
   "metadata": {},
   "outputs": [
    {
     "data": {
      "text/html": [
       "<div>\n",
       "<style scoped>\n",
       "    .dataframe tbody tr th:only-of-type {\n",
       "        vertical-align: middle;\n",
       "    }\n",
       "\n",
       "    .dataframe tbody tr th {\n",
       "        vertical-align: top;\n",
       "    }\n",
       "\n",
       "    .dataframe thead th {\n",
       "        text-align: right;\n",
       "    }\n",
       "</style>\n",
       "<table border=\"1\" class=\"dataframe\">\n",
       "  <thead>\n",
       "    <tr style=\"text-align: right;\">\n",
       "      <th>NPS_SEGMENT</th>\n",
       "      <th>year_month</th>\n",
       "      <th>Detractor</th>\n",
       "      <th>Neutro</th>\n",
       "      <th>Promotor</th>\n",
       "      <th>(%)Detractor</th>\n",
       "      <th>(%)Neutro</th>\n",
       "      <th>(%)Promotor</th>\n",
       "      <th>total_surveys</th>\n",
       "    </tr>\n",
       "  </thead>\n",
       "  <tbody>\n",
       "    <tr>\n",
       "      <th>0</th>\n",
       "      <td>2019-01</td>\n",
       "      <td>773</td>\n",
       "      <td>910</td>\n",
       "      <td>2518</td>\n",
       "      <td>18</td>\n",
       "      <td>22</td>\n",
       "      <td>60</td>\n",
       "      <td>4301</td>\n",
       "    </tr>\n",
       "    <tr>\n",
       "      <th>1</th>\n",
       "      <td>2019-02</td>\n",
       "      <td>682</td>\n",
       "      <td>824</td>\n",
       "      <td>2260</td>\n",
       "      <td>18</td>\n",
       "      <td>22</td>\n",
       "      <td>60</td>\n",
       "      <td>3866</td>\n",
       "    </tr>\n",
       "    <tr>\n",
       "      <th>2</th>\n",
       "      <td>2019-03</td>\n",
       "      <td>532</td>\n",
       "      <td>609</td>\n",
       "      <td>1793</td>\n",
       "      <td>18</td>\n",
       "      <td>21</td>\n",
       "      <td>61</td>\n",
       "      <td>3034</td>\n",
       "    </tr>\n",
       "    <tr>\n",
       "      <th>3</th>\n",
       "      <td>2019-04</td>\n",
       "      <td>524</td>\n",
       "      <td>638</td>\n",
       "      <td>1954</td>\n",
       "      <td>17</td>\n",
       "      <td>20</td>\n",
       "      <td>63</td>\n",
       "      <td>3216</td>\n",
       "    </tr>\n",
       "    <tr>\n",
       "      <th>4</th>\n",
       "      <td>2019-05</td>\n",
       "      <td>603</td>\n",
       "      <td>748</td>\n",
       "      <td>2243</td>\n",
       "      <td>17</td>\n",
       "      <td>21</td>\n",
       "      <td>62</td>\n",
       "      <td>3694</td>\n",
       "    </tr>\n",
       "  </tbody>\n",
       "</table>\n",
       "</div>"
      ],
      "text/plain": [
       "NPS_SEGMENT year_month  Detractor  Neutro  Promotor  (%)Detractor  (%)Neutro  \\\n",
       "0              2019-01        773     910      2518            18         22   \n",
       "1              2019-02        682     824      2260            18         22   \n",
       "2              2019-03        532     609      1793            18         21   \n",
       "3              2019-04        524     638      1954            17         20   \n",
       "4              2019-05        603     748      2243            17         21   \n",
       "\n",
       "NPS_SEGMENT  (%)Promotor  total_surveys  \n",
       "0                     60           4301  \n",
       "1                     60           3866  \n",
       "2                     61           3034  \n",
       "3                     63           3216  \n",
       "4                     62           3694  "
      ]
     },
     "execution_count": 73,
     "metadata": {},
     "output_type": "execute_result"
    }
   ],
   "source": [
    "monthly_nps.head()"
   ]
  },
  {
   "cell_type": "markdown",
   "metadata": {},
   "source": [
    "### 3. Export cantidades mensuales"
   ]
  },
  {
   "cell_type": "markdown",
   "metadata": {},
   "source": [
    "monthly_nps.to_csv(dashboard + \"3-monthly_nps.csv\", encoding = \"utf-8\")"
   ]
  },
  {
   "cell_type": "markdown",
   "metadata": {},
   "source": [
    "## Motivos y atributos "
   ]
  },
  {
   "cell_type": "code",
   "execution_count": 74,
   "metadata": {},
   "outputs": [
    {
     "data": {
      "text/html": [
       "<div>\n",
       "<style scoped>\n",
       "    .dataframe tbody tr th:only-of-type {\n",
       "        vertical-align: middle;\n",
       "    }\n",
       "\n",
       "    .dataframe tbody tr th {\n",
       "        vertical-align: top;\n",
       "    }\n",
       "\n",
       "    .dataframe thead th {\n",
       "        text-align: right;\n",
       "    }\n",
       "</style>\n",
       "<table border=\"1\" class=\"dataframe\">\n",
       "  <thead>\n",
       "    <tr style=\"text-align: right;\">\n",
       "      <th></th>\n",
       "      <th>CREATION_DATE</th>\n",
       "      <th>RESPONSE_DATE</th>\n",
       "      <th>CURRENT_STATUS</th>\n",
       "      <th>ALL_LOG_NOTES_COMBINED</th>\n",
       "      <th>ALERT_STATUS_CHANGED_TIME</th>\n",
       "      <th>CASE_OWNER</th>\n",
       "      <th>FEEDBACK_CALL_DATE</th>\n",
       "      <th>FEEDBACK_CALL_TIME</th>\n",
       "      <th>FEEDBACK_CALL_OUTCOME</th>\n",
       "      <th>APPOINTMENT_FOR_NEXT_CALL</th>\n",
       "      <th>...</th>\n",
       "      <th>5mot_Precio</th>\n",
       "      <th>6atr_Eficacia</th>\n",
       "      <th>6mot_Accesibilidad</th>\n",
       "      <th>7mot_Cobertura&amp;poliza</th>\n",
       "      <th>8atr_Demora</th>\n",
       "      <th>8mot_Atencion</th>\n",
       "      <th>atr_Informacion</th>\n",
       "      <th>motivos</th>\n",
       "      <th>atributos</th>\n",
       "      <th>detected</th>\n",
       "    </tr>\n",
       "  </thead>\n",
       "  <tbody>\n",
       "    <tr>\n",
       "      <th>0</th>\n",
       "      <td>2018-12-05</td>\n",
       "      <td>2019-01-02</td>\n",
       "      <td>Resolved</td>\n",
       "      <td>[2019-01-02 10:46:48] Alert Created: Detractor Consumer: AR; [2019-01-02 10:46:50] Alert status set to New; [2019-01-03 03:32:08] Case Edited: Dueño de este caso (por favor ingresar su nombre) · Fecha del Primer contacto · Hora del Primer contacto · Resultado del Primer contacto · Agenda de próximo contacto (araujo); [2019-01-03 03:59:07] Case Edited: Date of 2nd Feedback Call · Time of 2nd Feedback Call · Outcome of 2nd Feedback Call (araujo); [2019-01-03 04:17:49] Case Edited: Date of 3rd Feedback Call · Time of 3rd Feedback Call · Outcome of 3rd Feedback Call · Descripción detallada del contacto (araujo); [2019-01-03 08:05:51] Case Edited: Descripción detallada del contacto · Fuiste capaz de resolver el inconveniente? · El cliente se encontró satisfecho con el resultado? · Hay riesgos de que el cliente solicite la baja de su póliza? · El cliente desea ser contactado por un representante de Generali? · El cliente recibirá un regalo sorpresa? · Plan de acción para la resolución (araujo); [2019-01-03 08:05:57] Alert Closed (araujo); [2019-01-03 08:06:47] Note Added: 3 intentos de contacto fallidos. se envía mail para una próxima llamada. 5TA LLAMADA SIN EXITO. SE RE ENVIA MAIL DONDE SE LE SOLICITA PEDIR BAJA DEL SEGURO DE AP para dar curso al trámite (araujo); [2019-05-21 04:18:02] Alert Reopened (araujo); [2019-05-21 04:18:06] Alert Resolved (araujo); [2019-05-21 04:18:23] Alert Closed (araujo); [2019-05-21 06:43:03] Alert Reopened (araujo); [2019-05-21 06:43:36] Case Edited: Descripción detallada del contacto · Fuiste capaz de resolver el inconveniente? · El cliente se encontró satisfecho con el resultado? · Hay riesgos de que el cliente solicite la baja de su póliza? · El cliente desea ser contactado por un representante de Generali? · El cliente recibirá un regalo sorpresa? · Plan de acción para la resolución (araujo); [2019-05-21 06:43:42] Alert Resolved (araujo); [2019-05-21 06:43:54] Alert Closed (araujo); [2019-05-21 06:44:00] Alert Reopened (araujo); [2019-05-21 06:44:04] Alert Resolved (araujo)</td>\n",
       "      <td>21/5/2019 06:44:04</td>\n",
       "      <td>vanni gorostiza</td>\n",
       "      <td>3/1/2019</td>\n",
       "      <td>1/12/2019 08:30:00</td>\n",
       "      <td>Not reachable</td>\n",
       "      <td>03/01/2019</td>\n",
       "      <td>...</td>\n",
       "      <td>0</td>\n",
       "      <td>0</td>\n",
       "      <td>0</td>\n",
       "      <td>0</td>\n",
       "      <td>0</td>\n",
       "      <td>0</td>\n",
       "      <td>0</td>\n",
       "      <td>[]</td>\n",
       "      <td>[]</td>\n",
       "      <td>False</td>\n",
       "    </tr>\n",
       "  </tbody>\n",
       "</table>\n",
       "<p>1 rows × 200 columns</p>\n",
       "</div>"
      ],
      "text/plain": [
       "  CREATION_DATE RESPONSE_DATE CURRENT_STATUS  \\\n",
       "0    2018-12-05    2019-01-02       Resolved   \n",
       "\n",
       "                                                                                                                                                                                                                                                                                                                                                                                                                                                                                                                                                                                                                                                                                                                                                                                                                                                                                                                                                                                                                                                                                                                                                                                                                                                                                                                                                                                                                                                                                                                                                                                                                                                                                                                                                                                                                                                                                                                                                                                                                                                                                                    ALL_LOG_NOTES_COMBINED  \\\n",
       "0  [2019-01-02 10:46:48] Alert Created: Detractor Consumer: AR; [2019-01-02 10:46:50] Alert status set to New; [2019-01-03 03:32:08] Case Edited: Dueño de este caso (por favor ingresar su nombre) · Fecha del Primer contacto · Hora del Primer contacto · Resultado del Primer contacto · Agenda de próximo contacto (araujo); [2019-01-03 03:59:07] Case Edited: Date of 2nd Feedback Call · Time of 2nd Feedback Call · Outcome of 2nd Feedback Call (araujo); [2019-01-03 04:17:49] Case Edited: Date of 3rd Feedback Call · Time of 3rd Feedback Call · Outcome of 3rd Feedback Call · Descripción detallada del contacto (araujo); [2019-01-03 08:05:51] Case Edited: Descripción detallada del contacto · Fuiste capaz de resolver el inconveniente? · El cliente se encontró satisfecho con el resultado? · Hay riesgos de que el cliente solicite la baja de su póliza? · El cliente desea ser contactado por un representante de Generali? · El cliente recibirá un regalo sorpresa? · Plan de acción para la resolución (araujo); [2019-01-03 08:05:57] Alert Closed (araujo); [2019-01-03 08:06:47] Note Added: 3 intentos de contacto fallidos. se envía mail para una próxima llamada. 5TA LLAMADA SIN EXITO. SE RE ENVIA MAIL DONDE SE LE SOLICITA PEDIR BAJA DEL SEGURO DE AP para dar curso al trámite (araujo); [2019-05-21 04:18:02] Alert Reopened (araujo); [2019-05-21 04:18:06] Alert Resolved (araujo); [2019-05-21 04:18:23] Alert Closed (araujo); [2019-05-21 06:43:03] Alert Reopened (araujo); [2019-05-21 06:43:36] Case Edited: Descripción detallada del contacto · Fuiste capaz de resolver el inconveniente? · El cliente se encontró satisfecho con el resultado? · Hay riesgos de que el cliente solicite la baja de su póliza? · El cliente desea ser contactado por un representante de Generali? · El cliente recibirá un regalo sorpresa? · Plan de acción para la resolución (araujo); [2019-05-21 06:43:42] Alert Resolved (araujo); [2019-05-21 06:43:54] Alert Closed (araujo); [2019-05-21 06:44:00] Alert Reopened (araujo); [2019-05-21 06:44:04] Alert Resolved (araujo)   \n",
       "\n",
       "  ALERT_STATUS_CHANGED_TIME       CASE_OWNER FEEDBACK_CALL_DATE  \\\n",
       "0        21/5/2019 06:44:04  vanni gorostiza           3/1/2019   \n",
       "\n",
       "   FEEDBACK_CALL_TIME FEEDBACK_CALL_OUTCOME APPOINTMENT_FOR_NEXT_CALL  ...  \\\n",
       "0  1/12/2019 08:30:00         Not reachable                03/01/2019  ...   \n",
       "\n",
       "   5mot_Precio 6atr_Eficacia 6mot_Accesibilidad 7mot_Cobertura&poliza  \\\n",
       "0            0             0                  0                     0   \n",
       "\n",
       "  8atr_Demora 8mot_Atencion atr_Informacion motivos atributos detected  \n",
       "0           0             0               0      []        []    False  \n",
       "\n",
       "[1 rows x 200 columns]"
      ]
     },
     "execution_count": 74,
     "metadata": {},
     "output_type": "execute_result"
    }
   ],
   "source": [
    "tagged.head(1)"
   ]
  },
  {
   "cell_type": "code",
   "execution_count": 75,
   "metadata": {},
   "outputs": [],
   "source": [
    "motivos = pd.DataFrame((tagged.motivos.str.split(\"'\").tolist()), index= df.index)[[0,1,2,3,4,5,6]].rename(\n",
    "    columns={\n",
    "        0: \"mot0\",\n",
    "        1: \"mot1\",\n",
    "        2: \"mot2\",\n",
    "        3: \"mot3\",\n",
    "        4: \"mot4\",\n",
    "        5: \"mot5\",\n",
    "        6: \"mot6\"\n",
    "    })"
   ]
  },
  {
   "cell_type": "code",
   "execution_count": 76,
   "metadata": {},
   "outputs": [
    {
     "data": {
      "text/html": [
       "<div>\n",
       "<style scoped>\n",
       "    .dataframe tbody tr th:only-of-type {\n",
       "        vertical-align: middle;\n",
       "    }\n",
       "\n",
       "    .dataframe tbody tr th {\n",
       "        vertical-align: top;\n",
       "    }\n",
       "\n",
       "    .dataframe thead th {\n",
       "        text-align: right;\n",
       "    }\n",
       "</style>\n",
       "<table border=\"1\" class=\"dataframe\">\n",
       "  <thead>\n",
       "    <tr style=\"text-align: right;\">\n",
       "      <th></th>\n",
       "      <th>mot0</th>\n",
       "      <th>mot1</th>\n",
       "      <th>mot2</th>\n",
       "      <th>mot3</th>\n",
       "      <th>mot4</th>\n",
       "      <th>mot5</th>\n",
       "      <th>mot6</th>\n",
       "    </tr>\n",
       "  </thead>\n",
       "  <tbody>\n",
       "    <tr>\n",
       "      <th>0</th>\n",
       "      <td>[]</td>\n",
       "      <td>None</td>\n",
       "      <td>None</td>\n",
       "      <td>None</td>\n",
       "      <td>None</td>\n",
       "      <td>None</td>\n",
       "      <td>None</td>\n",
       "    </tr>\n",
       "    <tr>\n",
       "      <th>1</th>\n",
       "      <td>[]</td>\n",
       "      <td>None</td>\n",
       "      <td>None</td>\n",
       "      <td>None</td>\n",
       "      <td>None</td>\n",
       "      <td>None</td>\n",
       "      <td>None</td>\n",
       "    </tr>\n",
       "    <tr>\n",
       "      <th>2</th>\n",
       "      <td>[</td>\n",
       "      <td>Servicio</td>\n",
       "      <td>]</td>\n",
       "      <td>None</td>\n",
       "      <td>None</td>\n",
       "      <td>None</td>\n",
       "      <td>None</td>\n",
       "    </tr>\n",
       "    <tr>\n",
       "      <th>3</th>\n",
       "      <td>[</td>\n",
       "      <td>Atencion</td>\n",
       "      <td>]</td>\n",
       "      <td>None</td>\n",
       "      <td>None</td>\n",
       "      <td>None</td>\n",
       "      <td>None</td>\n",
       "    </tr>\n",
       "    <tr>\n",
       "      <th>4</th>\n",
       "      <td>[</td>\n",
       "      <td>Cobertura&amp;poliza</td>\n",
       "      <td>]</td>\n",
       "      <td>None</td>\n",
       "      <td>None</td>\n",
       "      <td>None</td>\n",
       "      <td>None</td>\n",
       "    </tr>\n",
       "    <tr>\n",
       "      <th>...</th>\n",
       "      <td>...</td>\n",
       "      <td>...</td>\n",
       "      <td>...</td>\n",
       "      <td>...</td>\n",
       "      <td>...</td>\n",
       "      <td>...</td>\n",
       "      <td>...</td>\n",
       "    </tr>\n",
       "    <tr>\n",
       "      <th>125600</th>\n",
       "      <td>[]</td>\n",
       "      <td>None</td>\n",
       "      <td>None</td>\n",
       "      <td>None</td>\n",
       "      <td>None</td>\n",
       "      <td>None</td>\n",
       "      <td>None</td>\n",
       "    </tr>\n",
       "    <tr>\n",
       "      <th>125601</th>\n",
       "      <td>[]</td>\n",
       "      <td>None</td>\n",
       "      <td>None</td>\n",
       "      <td>None</td>\n",
       "      <td>None</td>\n",
       "      <td>None</td>\n",
       "      <td>None</td>\n",
       "    </tr>\n",
       "    <tr>\n",
       "      <th>125602</th>\n",
       "      <td>[</td>\n",
       "      <td>Atencion</td>\n",
       "      <td>]</td>\n",
       "      <td>None</td>\n",
       "      <td>None</td>\n",
       "      <td>None</td>\n",
       "      <td>None</td>\n",
       "    </tr>\n",
       "    <tr>\n",
       "      <th>125603</th>\n",
       "      <td>[</td>\n",
       "      <td>Servicio</td>\n",
       "      <td>]</td>\n",
       "      <td>None</td>\n",
       "      <td>None</td>\n",
       "      <td>None</td>\n",
       "      <td>None</td>\n",
       "    </tr>\n",
       "    <tr>\n",
       "      <th>125604</th>\n",
       "      <td>[</td>\n",
       "      <td>Atencion</td>\n",
       "      <td>]</td>\n",
       "      <td>None</td>\n",
       "      <td>None</td>\n",
       "      <td>None</td>\n",
       "      <td>None</td>\n",
       "    </tr>\n",
       "  </tbody>\n",
       "</table>\n",
       "<p>125605 rows × 7 columns</p>\n",
       "</div>"
      ],
      "text/plain": [
       "       mot0              mot1  mot2  mot3  mot4  mot5  mot6\n",
       "0        []              None  None  None  None  None  None\n",
       "1        []              None  None  None  None  None  None\n",
       "2         [          Servicio     ]  None  None  None  None\n",
       "3         [          Atencion     ]  None  None  None  None\n",
       "4         [  Cobertura&poliza     ]  None  None  None  None\n",
       "...     ...               ...   ...   ...   ...   ...   ...\n",
       "125600   []              None  None  None  None  None  None\n",
       "125601   []              None  None  None  None  None  None\n",
       "125602    [          Atencion     ]  None  None  None  None\n",
       "125603    [          Servicio     ]  None  None  None  None\n",
       "125604    [          Atencion     ]  None  None  None  None\n",
       "\n",
       "[125605 rows x 7 columns]"
      ]
     },
     "execution_count": 76,
     "metadata": {},
     "output_type": "execute_result"
    }
   ],
   "source": [
    "motivos"
   ]
  },
  {
   "cell_type": "code",
   "execution_count": 77,
   "metadata": {},
   "outputs": [],
   "source": [
    "motivos = motivos[[\"mot1\",\"mot3\",\"mot5\"]]"
   ]
  },
  {
   "cell_type": "code",
   "execution_count": 78,
   "metadata": {},
   "outputs": [],
   "source": [
    "# Se agrega al dataset\n",
    "df2 = pd.concat([tagged,motivos], axis=1)"
   ]
  },
  {
   "cell_type": "markdown",
   "metadata": {},
   "source": [
    "## Atributos"
   ]
  },
  {
   "cell_type": "code",
   "execution_count": 79,
   "metadata": {},
   "outputs": [],
   "source": [
    "atributos = pd.DataFrame((tagged.atributos.str.split(\"'\").tolist()), index= df.index)[[0,1,2,3,4]].rename(\n",
    "    columns={\n",
    "        0: \"atr0\",\n",
    "        1: \"atr1\",\n",
    "        2: \"atr2\",\n",
    "        3: \"atr3\",\n",
    "        4: \"atr4\",\n",
    "        5: \"atr5\",\n",
    "        6: \"atr6\"\n",
    "    })"
   ]
  },
  {
   "cell_type": "code",
   "execution_count": 80,
   "metadata": {},
   "outputs": [],
   "source": [
    "atributos = atributos[[\"atr1\",\"atr3\"]]"
   ]
  },
  {
   "cell_type": "code",
   "execution_count": 81,
   "metadata": {},
   "outputs": [],
   "source": [
    "df3 = pd.concat([df2,atributos], axis=1)"
   ]
  },
  {
   "cell_type": "code",
   "execution_count": 91,
   "metadata": {},
   "outputs": [
    {
     "data": {
      "text/html": [
       "<div>\n",
       "<style scoped>\n",
       "    .dataframe tbody tr th:only-of-type {\n",
       "        vertical-align: middle;\n",
       "    }\n",
       "\n",
       "    .dataframe tbody tr th {\n",
       "        vertical-align: top;\n",
       "    }\n",
       "\n",
       "    .dataframe thead th {\n",
       "        text-align: right;\n",
       "    }\n",
       "</style>\n",
       "<table border=\"1\" class=\"dataframe\">\n",
       "  <thead>\n",
       "    <tr style=\"text-align: right;\">\n",
       "      <th></th>\n",
       "      <th>motivos</th>\n",
       "      <th>atributos</th>\n",
       "    </tr>\n",
       "  </thead>\n",
       "  <tbody>\n",
       "    <tr>\n",
       "      <th>0</th>\n",
       "      <td>[]</td>\n",
       "      <td>[]</td>\n",
       "    </tr>\n",
       "    <tr>\n",
       "      <th>1</th>\n",
       "      <td>[]</td>\n",
       "      <td>[]</td>\n",
       "    </tr>\n",
       "    <tr>\n",
       "      <th>2</th>\n",
       "      <td>['Servicio']</td>\n",
       "      <td>[]</td>\n",
       "    </tr>\n",
       "    <tr>\n",
       "      <th>3</th>\n",
       "      <td>['Atencion']</td>\n",
       "      <td>[]</td>\n",
       "    </tr>\n",
       "    <tr>\n",
       "      <th>4</th>\n",
       "      <td>['Cobertura&amp;poliza']</td>\n",
       "      <td>['Demora']</td>\n",
       "    </tr>\n",
       "    <tr>\n",
       "      <th>...</th>\n",
       "      <td>...</td>\n",
       "      <td>...</td>\n",
       "    </tr>\n",
       "    <tr>\n",
       "      <th>125600</th>\n",
       "      <td>[]</td>\n",
       "      <td>['Eficacia']</td>\n",
       "    </tr>\n",
       "    <tr>\n",
       "      <th>125601</th>\n",
       "      <td>[]</td>\n",
       "      <td>['Eficacia']</td>\n",
       "    </tr>\n",
       "    <tr>\n",
       "      <th>125602</th>\n",
       "      <td>['Atencion']</td>\n",
       "      <td>['Eficacia']</td>\n",
       "    </tr>\n",
       "    <tr>\n",
       "      <th>125603</th>\n",
       "      <td>['Servicio']</td>\n",
       "      <td>[]</td>\n",
       "    </tr>\n",
       "    <tr>\n",
       "      <th>125604</th>\n",
       "      <td>['Atencion']</td>\n",
       "      <td>[]</td>\n",
       "    </tr>\n",
       "  </tbody>\n",
       "</table>\n",
       "<p>125605 rows × 2 columns</p>\n",
       "</div>"
      ],
      "text/plain": [
       "                     motivos     atributos\n",
       "0                         []            []\n",
       "1                         []            []\n",
       "2               ['Servicio']            []\n",
       "3               ['Atencion']            []\n",
       "4       ['Cobertura&poliza']    ['Demora']\n",
       "...                      ...           ...\n",
       "125600                    []  ['Eficacia']\n",
       "125601                    []  ['Eficacia']\n",
       "125602          ['Atencion']  ['Eficacia']\n",
       "125603          ['Servicio']            []\n",
       "125604          ['Atencion']            []\n",
       "\n",
       "[125605 rows x 2 columns]"
      ]
     },
     "execution_count": 91,
     "metadata": {},
     "output_type": "execute_result"
    }
   ],
   "source": []
  },
  {
   "cell_type": "code",
   "execution_count": 92,
   "metadata": {},
   "outputs": [
    {
     "ename": "NameError",
     "evalue": "name 'df2' is not defined",
     "output_type": "error",
     "traceback": [
      "\u001b[1;31m---------------------------------------------------------------------------\u001b[0m",
      "\u001b[1;31mNameError\u001b[0m                                 Traceback (most recent call last)",
      "\u001b[1;32m<ipython-input-92-1b25c05688d5>\u001b[0m in \u001b[0;36m<module>\u001b[1;34m\u001b[0m\n\u001b[1;32m----> 1\u001b[1;33m \u001b[1;32mdel\u001b[0m \u001b[0mdf2\u001b[0m\u001b[1;33m\u001b[0m\u001b[1;33m\u001b[0m\u001b[0m\n\u001b[0m\u001b[0;32m      2\u001b[0m \u001b[1;32mdel\u001b[0m \u001b[0mtagged\u001b[0m\u001b[1;33m\u001b[0m\u001b[1;33m\u001b[0m\u001b[0m\n\u001b[0;32m      3\u001b[0m \u001b[1;33m\u001b[0m\u001b[0m\n",
      "\u001b[1;31mNameError\u001b[0m: name 'df2' is not defined"
     ]
    }
   ],
   "source": [
    "del df2\n",
    "del tagged"
   ]
  },
  {
   "cell_type": "code",
   "execution_count": 84,
   "metadata": {},
   "outputs": [],
   "source": [
    "\n",
    "lst = [df3]\n",
    "for column in lst:\n",
    "    column.loc[column[\"AGE\"] < 30,  'grupo_edad'] = 20\n",
    "    column.loc[(column[\"AGE\"] >= 30) & (column[\"AGE\"] <= 39), 'grupo_edad'] = 30\n",
    "    column.loc[(column[\"AGE\"] >= 40) & (column[\"AGE\"] <= 49), 'grupo_edad'] = 40\n",
    "    column.loc[(column[\"AGE\"] >= 50) & (column[\"AGE\"] <= 59), 'grupo_edad'] = 50\n",
    "    column.loc[(column[\"AGE\"] >= 60) & (column[\"AGE\"] <= 69), 'grupo_edad'] = 60\n",
    "    column.loc[(column[\"AGE\"] >= 70) & (column[\"AGE\"] <= 79), 'grupo_edad'] = 70\n",
    "    column.loc[column[\"AGE\"] >= 80, 'grupo_edad'] = \"80+\"\n"
   ]
  },
  {
   "cell_type": "code",
   "execution_count": 85,
   "metadata": {},
   "outputs": [],
   "source": [
    "lst = [df3]\n",
    "for column in lst:\n",
    "    column.loc[column[\"AGE\"] < 20,  'rango_etario'] = 20\n",
    "    column.loc[(column[\"AGE\"] >= 20) & (column[\"AGE\"] <= 25), 'rango_etario'] = \"20-25\"\n",
    "    column.loc[(column[\"AGE\"] >= 26) & (column[\"AGE\"] <= 30), 'rango_etario'] = \"26-30\"\n",
    "    column.loc[(column[\"AGE\"] >= 31) & (column[\"AGE\"] <= 35), 'rango_etario'] = \"31-35\"\n",
    "    column.loc[(column[\"AGE\"] >= 36) & (column[\"AGE\"] <= 40), 'rango_etario'] = \"36-40\"\n",
    "    column.loc[(column[\"AGE\"] >= 41) & (column[\"AGE\"] <= 45), 'rango_etario'] = \"41-45\"\n",
    "    column.loc[(column[\"AGE\"] >= 46) & (column[\"AGE\"] <= 50), 'rango_etario'] = \"46-50\"\n",
    "    column.loc[(column[\"AGE\"] >= 51) & (column[\"AGE\"] <= 55), 'rango_etario'] = \"51-55\"\n",
    "    column.loc[(column[\"AGE\"] >= 56) & (column[\"AGE\"] <= 60), 'rango_etario'] = \"56-60\"\n",
    "    column.loc[(column[\"AGE\"] >= 61) & (column[\"AGE\"] <= 65), 'rango_etario'] = \"61-65\"\n",
    "    column.loc[(column[\"AGE\"] >= 66) & (column[\"AGE\"] <= 70), 'rango_etario'] = \"66-70\"\n",
    "    column.loc[(column[\"AGE\"] >= 71) & (column[\"AGE\"] <= 75), 'rango_etario'] = \"71-75\"\n",
    "    column.loc[(column[\"AGE\"] >= 76) & (column[\"AGE\"] <= 80), 'rango_etario'] = \"76-80\"\n",
    "    column.loc[column[\"AGE\"] >= 81, 'rango_etario'] = \"80+\""
   ]
  },
  {
   "cell_type": "code",
   "execution_count": 88,
   "metadata": {},
   "outputs": [],
   "source": [
    "df3.to_csv(dashboard+\"nps_actualizado2020.csv\")"
   ]
  },
  {
   "cell_type": "code",
   "execution_count": 93,
   "metadata": {
    "pycharm": {
     "name": "#%%\n"
    }
   },
   "outputs": [
    {
     "data": {
      "text/html": [
       "<div>\n",
       "<style scoped>\n",
       "    .dataframe tbody tr th:only-of-type {\n",
       "        vertical-align: middle;\n",
       "    }\n",
       "\n",
       "    .dataframe tbody tr th {\n",
       "        vertical-align: top;\n",
       "    }\n",
       "\n",
       "    .dataframe thead th {\n",
       "        text-align: right;\n",
       "    }\n",
       "</style>\n",
       "<table border=\"1\" class=\"dataframe\">\n",
       "  <thead>\n",
       "    <tr style=\"text-align: right;\">\n",
       "      <th></th>\n",
       "      <th>motivos</th>\n",
       "      <th>atributos</th>\n",
       "    </tr>\n",
       "  </thead>\n",
       "  <tbody>\n",
       "    <tr>\n",
       "      <th>0</th>\n",
       "      <td>[]</td>\n",
       "      <td>[]</td>\n",
       "    </tr>\n",
       "    <tr>\n",
       "      <th>1</th>\n",
       "      <td>[]</td>\n",
       "      <td>[]</td>\n",
       "    </tr>\n",
       "    <tr>\n",
       "      <th>2</th>\n",
       "      <td>['Servicio']</td>\n",
       "      <td>[]</td>\n",
       "    </tr>\n",
       "    <tr>\n",
       "      <th>3</th>\n",
       "      <td>['Atencion']</td>\n",
       "      <td>[]</td>\n",
       "    </tr>\n",
       "    <tr>\n",
       "      <th>4</th>\n",
       "      <td>['Cobertura&amp;poliza']</td>\n",
       "      <td>['Demora']</td>\n",
       "    </tr>\n",
       "    <tr>\n",
       "      <th>...</th>\n",
       "      <td>...</td>\n",
       "      <td>...</td>\n",
       "    </tr>\n",
       "    <tr>\n",
       "      <th>125600</th>\n",
       "      <td>[]</td>\n",
       "      <td>['Eficacia']</td>\n",
       "    </tr>\n",
       "    <tr>\n",
       "      <th>125601</th>\n",
       "      <td>[]</td>\n",
       "      <td>['Eficacia']</td>\n",
       "    </tr>\n",
       "    <tr>\n",
       "      <th>125602</th>\n",
       "      <td>['Atencion']</td>\n",
       "      <td>['Eficacia']</td>\n",
       "    </tr>\n",
       "    <tr>\n",
       "      <th>125603</th>\n",
       "      <td>['Servicio']</td>\n",
       "      <td>[]</td>\n",
       "    </tr>\n",
       "    <tr>\n",
       "      <th>125604</th>\n",
       "      <td>['Atencion']</td>\n",
       "      <td>[]</td>\n",
       "    </tr>\n",
       "  </tbody>\n",
       "</table>\n",
       "<p>125605 rows × 2 columns</p>\n",
       "</div>"
      ],
      "text/plain": [
       "                     motivos     atributos\n",
       "0                         []            []\n",
       "1                         []            []\n",
       "2               ['Servicio']            []\n",
       "3               ['Atencion']            []\n",
       "4       ['Cobertura&poliza']    ['Demora']\n",
       "...                      ...           ...\n",
       "125600                    []  ['Eficacia']\n",
       "125601                    []  ['Eficacia']\n",
       "125602          ['Atencion']  ['Eficacia']\n",
       "125603          ['Servicio']            []\n",
       "125604          ['Atencion']            []\n",
       "\n",
       "[125605 rows x 2 columns]"
      ]
     },
     "execution_count": 93,
     "metadata": {},
     "output_type": "execute_result"
    }
   ],
   "source": [
    "df3[[\"motivos\",\"atributos\"]]"
   ]
  },
  {
   "cell_type": "code",
   "execution_count": null,
   "metadata": {},
   "outputs": [],
   "source": []
  },
  {
   "cell_type": "code",
   "execution_count": 90,
   "metadata": {},
   "outputs": [
    {
     "name": "stdout",
     "output_type": "stream",
     "text": [
      "El script tarda 10.512417471408844 minutos\n"
     ]
    },
    {
     "data": {
      "text/plain": [
       "615"
      ]
     },
     "execution_count": 90,
     "metadata": {},
     "output_type": "execute_result"
    }
   ],
   "source": [
    "print(\"El script tarda\", ((time.time() - start_time)/60), \"minutos\")\n",
    "playsound(sonido+\"war.mp3\")\n",
    "gc.collect()"
   ]
  },
  {
   "cell_type": "code",
   "execution_count": null,
   "metadata": {},
   "outputs": [],
   "source": []
  },
  {
   "cell_type": "code",
   "execution_count": null,
   "metadata": {},
   "outputs": [],
   "source": []
  },
  {
   "cell_type": "code",
   "execution_count": null,
   "metadata": {},
   "outputs": [],
   "source": [
    "df.RESPONSE_DATE.max()"
   ]
  },
  {
   "cell_type": "code",
   "execution_count": null,
   "metadata": {},
   "outputs": [],
   "source": [
    "df.TOUCHPOINT_NUMBER.unique()"
   ]
  },
  {
   "cell_type": "code",
   "execution_count": null,
   "metadata": {},
   "outputs": [],
   "source": []
  },
  {
   "cell_type": "code",
   "execution_count": null,
   "metadata": {},
   "outputs": [],
   "source": []
  },
  {
   "cell_type": "code",
   "execution_count": null,
   "metadata": {},
   "outputs": [],
   "source": [
    "len(df3)"
   ]
  },
  {
   "cell_type": "code",
   "execution_count": null,
   "metadata": {},
   "outputs": [],
   "source": [
    "not_detected = df3[df3.detected == False]"
   ]
  },
  {
   "cell_type": "code",
   "execution_count": null,
   "metadata": {},
   "outputs": [],
   "source": [
    "na = len(not_detected)\n",
    "total = len(df3)\n",
    "porciento = na/total\n",
    "\n",
    "print('La cantidad de comentarios no tageados son ', na)\n",
    "print('Representa', porciento, \" de la muestra\")\n",
    "print('El porcentaje de comentarios taggeados es ', 1-porciento, \" de la muestra\")"
   ]
  },
  {
   "cell_type": "code",
   "execution_count": null,
   "metadata": {},
   "outputs": [],
   "source": [
    "not_detected.to_csv(dashboard + \"sintaggeos2.csv\")"
   ]
  },
  {
   "cell_type": "code",
   "execution_count": null,
   "metadata": {},
   "outputs": [],
   "source": [
    "detractor = df3[df3[\"NPS_SEGMENT\"] == \"Detractor\"]"
   ]
  },
  {
   "cell_type": "markdown",
   "metadata": {},
   "source": [
    "## Lo importante es hacer esta Matriz mes a mes"
   ]
  },
  {
   "cell_type": "code",
   "execution_count": null,
   "metadata": {},
   "outputs": [],
   "source": [
    "orange = sns.light_palette(\"red\", as_cmap=True)\n",
    "topicros= pd.crosstab(detractor['mot1'],detractor['atr1'])\n",
    "topicros.style.background_gradient(cmap=orange)"
   ]
  },
  {
   "cell_type": "code",
   "execution_count": null,
   "metadata": {},
   "outputs": [],
   "source": [
    "detractor.head(1)"
   ]
  },
  {
   "cell_type": "code",
   "execution_count": null,
   "metadata": {},
   "outputs": [],
   "source": [
    "pd.crosstab(detractor['mot1'],detractor['mot3'])"
   ]
  },
  {
   "cell_type": "code",
   "execution_count": null,
   "metadata": {},
   "outputs": [],
   "source": [
    "pd.crosstab(detractor['atr1'],detractor['atr3'])"
   ]
  },
  {
   "cell_type": "code",
   "execution_count": null,
   "metadata": {},
   "outputs": [],
   "source": [
    "print(\"El script tarda\", ((time.time() - start_time)/60), \"minutos\")\n",
    "playsound(sonido+\"war.mp3\")\n",
    "gc.collect()"
   ]
  },
  {
   "cell_type": "code",
   "execution_count": null,
   "metadata": {},
   "outputs": [],
   "source": []
  },
  {
   "cell_type": "code",
   "execution_count": null,
   "metadata": {},
   "outputs": [],
   "source": []
  }
 ],
 "metadata": {
  "kernelspec": {
   "display_name": "Python 3",
   "language": "python",
   "name": "python3"
  },
  "language_info": {
   "codemirror_mode": {
    "name": "ipython",
    "version": 3
   },
   "file_extension": ".py",
   "mimetype": "text/x-python",
   "name": "python",
   "nbconvert_exporter": "python",
   "pygments_lexer": "ipython3",
   "version": "3.7.3"
  }
 },
 "nbformat": 4,
 "nbformat_minor": 4
}
